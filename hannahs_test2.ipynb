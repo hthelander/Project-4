{
  "cells": [
    {
      "cell_type": "code",
      "execution_count": 1,
      "metadata": {
        "colab": {
          "base_uri": "https://localhost:8080/"
        },
        "id": "U6f3Nx1i3dTk",
        "outputId": "36840b4a-a35e-4877-f3d0-a9c6eaf35907"
      },
      "outputs": [
        {
          "output_type": "stream",
          "name": "stdout",
          "text": [
            "Looking in indexes: https://pypi.org/simple, https://us-python.pkg.dev/colab-wheels/public/simple/\n",
            "Requirement already satisfied: nltk in /usr/local/lib/python3.8/dist-packages (3.7)\n",
            "Requirement already satisfied: scikit-learn in /usr/local/lib/python3.8/dist-packages (1.2.1)\n",
            "Requirement already satisfied: regex in /usr/local/lib/python3.8/dist-packages (2022.6.2)\n",
            "Requirement already satisfied: numpy in /usr/local/lib/python3.8/dist-packages (1.22.4)\n",
            "Requirement already satisfied: pandas in /usr/local/lib/python3.8/dist-packages (1.3.5)\n",
            "Requirement already satisfied: joblib in /usr/local/lib/python3.8/dist-packages (from nltk) (1.2.0)\n",
            "Requirement already satisfied: tqdm in /usr/local/lib/python3.8/dist-packages (from nltk) (4.64.1)\n",
            "Requirement already satisfied: click in /usr/local/lib/python3.8/dist-packages (from nltk) (8.1.3)\n",
            "Requirement already satisfied: threadpoolctl>=2.0.0 in /usr/local/lib/python3.8/dist-packages (from scikit-learn) (3.1.0)\n",
            "Requirement already satisfied: scipy>=1.3.2 in /usr/local/lib/python3.8/dist-packages (from scikit-learn) (1.10.1)\n",
            "Requirement already satisfied: python-dateutil>=2.7.3 in /usr/local/lib/python3.8/dist-packages (from pandas) (2.8.2)\n",
            "Requirement already satisfied: pytz>=2017.3 in /usr/local/lib/python3.8/dist-packages (from pandas) (2022.7.1)\n",
            "Requirement already satisfied: six>=1.5 in /usr/local/lib/python3.8/dist-packages (from python-dateutil>=2.7.3->pandas) (1.15.0)\n"
          ]
        }
      ],
      "source": [
        "!pip install nltk scikit-learn regex numpy pandas"
      ]
    },
    {
      "cell_type": "code",
      "execution_count": 2,
      "metadata": {
        "id": "uxVlqvTcJkK7"
      },
      "outputs": [],
      "source": [
        "import pandas as pd\n",
        "import numpy as np\n",
        "import nltk \n",
        "from nltk.stem import WordNetLemmatizer\n",
        "from nltk.corpus import stopwords\n",
        "import re\n",
        "from sklearn.model_selection import train_test_split\n",
        "from sklearn.metrics import classification_report \n",
        "from sklearn.feature_extraction.text import CountVectorizer\n",
        "from sklearn.feature_extraction.text import TfidfVectorizer"
      ]
    },
    {
      "cell_type": "code",
      "execution_count": 3,
      "metadata": {
        "colab": {
          "base_uri": "https://localhost:8080/",
          "height": 206
        },
        "id": "94r6-W-1Jrtv",
        "outputId": "6f98b1fb-b294-49b5-ee30-88e133503b73"
      },
      "outputs": [
        {
          "output_type": "execute_result",
          "data": {
            "text/plain": [
              "   CATEGORY                                            MESSAGE  \\\n",
              "0         1  Dear Homeowner,\\n\\n \\n\\nInterest Rates are at ...   \n",
              "1         1  ATTENTION: This is a MUST for ALL Computer Use...   \n",
              "2         1  This is a multi-part message in MIME format.\\n...   \n",
              "3         1  IMPORTANT INFORMATION:\\n\\n\\n\\nThe new domain n...   \n",
              "4         1  This is the bottom line.  If you can GIVE AWAY...   \n",
              "\n",
              "                                FILE_NAME  \n",
              "0  00249.5f45607c1bffe89f60ba1ec9f878039a  \n",
              "1  00373.ebe8670ac56b04125c25100a36ab0510  \n",
              "2  00214.1367039e50dc6b7adb0f2aa8aba83216  \n",
              "3  00210.050ffd105bd4e006771ee63cabc59978  \n",
              "4  00033.9babb58d9298daa2963d4f514193d7d6  "
            ],
            "text/html": [
              "\n",
              "  <div id=\"df-991c6f4d-378d-4f44-8c20-40c94df2f7d5\">\n",
              "    <div class=\"colab-df-container\">\n",
              "      <div>\n",
              "<style scoped>\n",
              "    .dataframe tbody tr th:only-of-type {\n",
              "        vertical-align: middle;\n",
              "    }\n",
              "\n",
              "    .dataframe tbody tr th {\n",
              "        vertical-align: top;\n",
              "    }\n",
              "\n",
              "    .dataframe thead th {\n",
              "        text-align: right;\n",
              "    }\n",
              "</style>\n",
              "<table border=\"1\" class=\"dataframe\">\n",
              "  <thead>\n",
              "    <tr style=\"text-align: right;\">\n",
              "      <th></th>\n",
              "      <th>CATEGORY</th>\n",
              "      <th>MESSAGE</th>\n",
              "      <th>FILE_NAME</th>\n",
              "    </tr>\n",
              "  </thead>\n",
              "  <tbody>\n",
              "    <tr>\n",
              "      <th>0</th>\n",
              "      <td>1</td>\n",
              "      <td>Dear Homeowner,\\n\\n \\n\\nInterest Rates are at ...</td>\n",
              "      <td>00249.5f45607c1bffe89f60ba1ec9f878039a</td>\n",
              "    </tr>\n",
              "    <tr>\n",
              "      <th>1</th>\n",
              "      <td>1</td>\n",
              "      <td>ATTENTION: This is a MUST for ALL Computer Use...</td>\n",
              "      <td>00373.ebe8670ac56b04125c25100a36ab0510</td>\n",
              "    </tr>\n",
              "    <tr>\n",
              "      <th>2</th>\n",
              "      <td>1</td>\n",
              "      <td>This is a multi-part message in MIME format.\\n...</td>\n",
              "      <td>00214.1367039e50dc6b7adb0f2aa8aba83216</td>\n",
              "    </tr>\n",
              "    <tr>\n",
              "      <th>3</th>\n",
              "      <td>1</td>\n",
              "      <td>IMPORTANT INFORMATION:\\n\\n\\n\\nThe new domain n...</td>\n",
              "      <td>00210.050ffd105bd4e006771ee63cabc59978</td>\n",
              "    </tr>\n",
              "    <tr>\n",
              "      <th>4</th>\n",
              "      <td>1</td>\n",
              "      <td>This is the bottom line.  If you can GIVE AWAY...</td>\n",
              "      <td>00033.9babb58d9298daa2963d4f514193d7d6</td>\n",
              "    </tr>\n",
              "  </tbody>\n",
              "</table>\n",
              "</div>\n",
              "      <button class=\"colab-df-convert\" onclick=\"convertToInteractive('df-991c6f4d-378d-4f44-8c20-40c94df2f7d5')\"\n",
              "              title=\"Convert this dataframe to an interactive table.\"\n",
              "              style=\"display:none;\">\n",
              "        \n",
              "  <svg xmlns=\"http://www.w3.org/2000/svg\" height=\"24px\"viewBox=\"0 0 24 24\"\n",
              "       width=\"24px\">\n",
              "    <path d=\"M0 0h24v24H0V0z\" fill=\"none\"/>\n",
              "    <path d=\"M18.56 5.44l.94 2.06.94-2.06 2.06-.94-2.06-.94-.94-2.06-.94 2.06-2.06.94zm-11 1L8.5 8.5l.94-2.06 2.06-.94-2.06-.94L8.5 2.5l-.94 2.06-2.06.94zm10 10l.94 2.06.94-2.06 2.06-.94-2.06-.94-.94-2.06-.94 2.06-2.06.94z\"/><path d=\"M17.41 7.96l-1.37-1.37c-.4-.4-.92-.59-1.43-.59-.52 0-1.04.2-1.43.59L10.3 9.45l-7.72 7.72c-.78.78-.78 2.05 0 2.83L4 21.41c.39.39.9.59 1.41.59.51 0 1.02-.2 1.41-.59l7.78-7.78 2.81-2.81c.8-.78.8-2.07 0-2.86zM5.41 20L4 18.59l7.72-7.72 1.47 1.35L5.41 20z\"/>\n",
              "  </svg>\n",
              "      </button>\n",
              "      \n",
              "  <style>\n",
              "    .colab-df-container {\n",
              "      display:flex;\n",
              "      flex-wrap:wrap;\n",
              "      gap: 12px;\n",
              "    }\n",
              "\n",
              "    .colab-df-convert {\n",
              "      background-color: #E8F0FE;\n",
              "      border: none;\n",
              "      border-radius: 50%;\n",
              "      cursor: pointer;\n",
              "      display: none;\n",
              "      fill: #1967D2;\n",
              "      height: 32px;\n",
              "      padding: 0 0 0 0;\n",
              "      width: 32px;\n",
              "    }\n",
              "\n",
              "    .colab-df-convert:hover {\n",
              "      background-color: #E2EBFA;\n",
              "      box-shadow: 0px 1px 2px rgba(60, 64, 67, 0.3), 0px 1px 3px 1px rgba(60, 64, 67, 0.15);\n",
              "      fill: #174EA6;\n",
              "    }\n",
              "\n",
              "    [theme=dark] .colab-df-convert {\n",
              "      background-color: #3B4455;\n",
              "      fill: #D2E3FC;\n",
              "    }\n",
              "\n",
              "    [theme=dark] .colab-df-convert:hover {\n",
              "      background-color: #434B5C;\n",
              "      box-shadow: 0px 1px 3px 1px rgba(0, 0, 0, 0.15);\n",
              "      filter: drop-shadow(0px 1px 2px rgba(0, 0, 0, 0.3));\n",
              "      fill: #FFFFFF;\n",
              "    }\n",
              "  </style>\n",
              "\n",
              "      <script>\n",
              "        const buttonEl =\n",
              "          document.querySelector('#df-991c6f4d-378d-4f44-8c20-40c94df2f7d5 button.colab-df-convert');\n",
              "        buttonEl.style.display =\n",
              "          google.colab.kernel.accessAllowed ? 'block' : 'none';\n",
              "\n",
              "        async function convertToInteractive(key) {\n",
              "          const element = document.querySelector('#df-991c6f4d-378d-4f44-8c20-40c94df2f7d5');\n",
              "          const dataTable =\n",
              "            await google.colab.kernel.invokeFunction('convertToInteractive',\n",
              "                                                     [key], {});\n",
              "          if (!dataTable) return;\n",
              "\n",
              "          const docLinkHtml = 'Like what you see? Visit the ' +\n",
              "            '<a target=\"_blank\" href=https://colab.research.google.com/notebooks/data_table.ipynb>data table notebook</a>'\n",
              "            + ' to learn more about interactive tables.';\n",
              "          element.innerHTML = '';\n",
              "          dataTable['output_type'] = 'display_data';\n",
              "          await google.colab.output.renderOutput(dataTable, element);\n",
              "          const docLink = document.createElement('div');\n",
              "          docLink.innerHTML = docLinkHtml;\n",
              "          element.appendChild(docLink);\n",
              "        }\n",
              "      </script>\n",
              "    </div>\n",
              "  </div>\n",
              "  "
            ]
          },
          "metadata": {},
          "execution_count": 3
        }
      ],
      "source": [
        "df = pd.read_csv('Resources/spam_email_nlp.csv')\n",
        "df.head()"
      ]
    },
    {
      "cell_type": "code",
      "execution_count": 4,
      "metadata": {
        "id": "Y6lfsbsILJ7S"
      },
      "outputs": [],
      "source": [
        "df.drop('FILE_NAME',axis=1,inplace=True)"
      ]
    },
    {
      "cell_type": "code",
      "execution_count": 5,
      "metadata": {
        "colab": {
          "base_uri": "https://localhost:8080/"
        },
        "id": "th8nCmK1MO5u",
        "outputId": "c76e3e2e-249c-43ae-e728-3515a298f089"
      },
      "outputs": [
        {
          "output_type": "execute_result",
          "data": {
            "text/plain": [
              "0    3900\n",
              "1    1896\n",
              "Name: CATEGORY, dtype: int64"
            ]
          },
          "metadata": {},
          "execution_count": 5
        }
      ],
      "source": [
        "df.CATEGORY.value_counts()"
      ]
    },
    {
      "cell_type": "code",
      "execution_count": 6,
      "metadata": {
        "colab": {
          "base_uri": "https://localhost:8080/"
        },
        "id": "t93x2o2hMRd3",
        "outputId": "a0195b6d-f1b9-43f9-99f1-f52c74ecbbb6"
      },
      "outputs": [
        {
          "output_type": "stream",
          "name": "stderr",
          "text": [
            "[nltk_data] Downloading package stopwords to /root/nltk_data...\n",
            "[nltk_data]   Unzipping corpora/stopwords.zip.\n"
          ]
        }
      ],
      "source": [
        "nltk.download('stopwords')\n",
        "stopword = nltk.corpus.stopwords.words('english')"
      ]
    },
    {
      "cell_type": "code",
      "execution_count": 7,
      "metadata": {
        "colab": {
          "base_uri": "https://localhost:8080/"
        },
        "id": "jhJmDY-JMUJw",
        "outputId": "8b774508-a610-4a81-ffaa-3ee6cb4f6289"
      },
      "outputs": [
        {
          "output_type": "stream",
          "name": "stderr",
          "text": [
            "[nltk_data] Downloading package omw-1.4 to /root/nltk_data...\n"
          ]
        },
        {
          "output_type": "execute_result",
          "data": {
            "text/plain": [
              "True"
            ]
          },
          "metadata": {},
          "execution_count": 7
        }
      ],
      "source": [
        "nltk.download('omw-1.4')"
      ]
    },
    {
      "cell_type": "code",
      "source": [
        "word_lists = []\n",
        "text_list = []\n",
        "for message_text in message_lists:\n",
        "  word_list = message_text.split()\n",
        "  for word in word_list:\n",
        "    text_list.append(word)\n",
        "  word_lists.append(word_list)\n",
        "print(word_lists)\n",
        "print(text_list)"
      ],
      "metadata": {
        "colab": {
          "base_uri": "https://localhost:8080/"
        },
        "id": "0NcgsEQcXtit",
        "outputId": "3fe27ea3-82eb-4d77-c519-613ee85882b9"
      },
      "execution_count": null,
      "outputs": [
        {
          "output_type": "stream",
          "name": "stdout",
          "text": [
            "[['hi,', 'this', 'is', 'a', 'test', 'message.', 'I', 'am', 'testing,', 'testing,', 'testing'], ['test,', 'test,', 'test,', 'one,', 'two,', 'three']]\n",
            "['hi,', 'this', 'is', 'a', 'test', 'message.', 'I', 'am', 'testing,', 'testing,', 'testing', 'test,', 'test,', 'test,', 'one,', 'two,', 'three']\n"
          ]
        }
      ]
    },
    {
      "cell_type": "code",
      "source": [
        "nltk.download('wordnet')\n",
        "lemmatizer=WordNetLemmatizer()\n",
        "corpus=[]\n",
        "words = []\n",
        "for i in range(len(df)):\n",
        "    # removing all non-alphanumeric characters\n",
        "    message=re.sub('[^a-zA-Z0-9]',' ',df['MESSAGE'][i]) \n",
        "    # converting the message to lowercase\n",
        "    message=message.lower() \n",
        "    # spliting the sentence into words for lemmatization                 \n",
        "    message=message.split()  \n",
        "    # removing stopwords and lemmatizing            \n",
        "    message=[lemmatizer.lemmatize(word) for word in message\n",
        "             if word not in set(stopwords.words('english'))]\n",
        "    for word in message:\n",
        "     words.append(word)\n",
        "    # Converting the words back into sentences\n",
        "    message=' '.join(message)    \n",
        "    # add message to df\n",
        "    # df['message'][i] = message\n",
        "    # Adding the preprocessed message to the corpus list            \n",
        "    corpus.append(message) "
      ],
      "metadata": {
        "colab": {
          "base_uri": "https://localhost:8080/"
        },
        "id": "i1nvl_-pYbCO",
        "outputId": "4ff9d6a7-011f-4c91-fcc8-b9277dafc999"
      },
      "execution_count": 32,
      "outputs": [
        {
          "output_type": "stream",
          "name": "stderr",
          "text": [
            "[nltk_data] Downloading package wordnet to /root/nltk_data...\n",
            "[nltk_data]   Package wordnet is already up-to-date!\n"
          ]
        }
      ]
    },
    {
      "cell_type": "code",
      "source": [
        "def get_count(words):\n",
        "    wordCounts = dict()\n",
        "    for word in words():\n",
        "        if word in wordCounts:\n",
        "            wordCounts[word] += 1\n",
        "        else:\n",
        "            wordCounts[word] = 1\n",
        "    \n",
        "    return wordCounts"
      ],
      "metadata": {
        "id": "z6U9hqe1f67j"
      },
      "execution_count": 33,
      "outputs": []
    },
    {
      "cell_type": "code",
      "source": [
        "from collections import Counter\n",
        "\n"
      ],
      "metadata": {
        "id": "tiLVvHQFgQXs"
      },
      "execution_count": 34,
      "outputs": []
    },
    {
      "cell_type": "code",
      "source": [
        "Counter(words)"
      ],
      "metadata": {
        "colab": {
          "base_uri": "https://localhost:8080/"
        },
        "id": "HffPFCpygyha",
        "outputId": "3072440b-4baf-435e-e943-15e1d1adf971"
      },
      "execution_count": 35,
      "outputs": [
        {
          "output_type": "execute_result",
          "data": {
            "text/plain": [
              "Counter({'dear': 256,\n",
              "         'homeowner': 64,\n",
              "         'interest': 618,\n",
              "         'rate': 919,\n",
              "         'lowest': 170,\n",
              "         'point': 694,\n",
              "         '40': 558,\n",
              "         'year': 2012,\n",
              "         'help': 1192,\n",
              "         'find': 1195,\n",
              "         'best': 1099,\n",
              "         'situation': 205,\n",
              "         'matching': 58,\n",
              "         'need': 1772,\n",
              "         'hundred': 364,\n",
              "         'lender': 134,\n",
              "         'home': 1563,\n",
              "         'improvement': 280,\n",
              "         'refinance': 120,\n",
              "         'second': 478,\n",
              "         'mortgage': 393,\n",
              "         'equity': 82,\n",
              "         'loan': 363,\n",
              "         'even': 1465,\n",
              "         'le': 833,\n",
              "         'perfect': 119,\n",
              "         'credit': 861,\n",
              "         'service': 1523,\n",
              "         '100': 2561,\n",
              "         'free': 3526,\n",
              "         'owner': 201,\n",
              "         'new': 3391,\n",
              "         'buyer': 80,\n",
              "         'without': 857,\n",
              "         'obligation': 212,\n",
              "         'fill': 420,\n",
              "         'quick': 209,\n",
              "         'simple': 521,\n",
              "         'form': 1490,\n",
              "         'jump': 63,\n",
              "         'start': 811,\n",
              "         'future': 698,\n",
              "         'plan': 451,\n",
              "         'today': 1064,\n",
              "         'visit': 513,\n",
              "         'http': 19662,\n",
              "         '61': 571,\n",
              "         '145': 48,\n",
              "         '116': 34,\n",
              "         '186': 30,\n",
              "         'user0201': 27,\n",
              "         'index': 775,\n",
              "         'asp': 819,\n",
              "         'afft': 35,\n",
              "         'qm10': 2,\n",
              "         'unsubscribe': 855,\n",
              "         'please': 2222,\n",
              "         'light': 139,\n",
              "         'watch': 169,\n",
              "         'attention': 146,\n",
              "         'must': 690,\n",
              "         'computer': 849,\n",
              "         'user': 3255,\n",
              "         'special': 732,\n",
              "         'package': 900,\n",
              "         'deal': 368,\n",
              "         'norton': 84,\n",
              "         'systemworks': 41,\n",
              "         '2002': 3662,\n",
              "         'software': 1332,\n",
              "         'suite': 173,\n",
              "         'professional': 607,\n",
              "         'edition': 124,\n",
              "         'includes': 310,\n",
              "         'six': 164,\n",
              "         'yes': 636,\n",
              "         '6': 1910,\n",
              "         'feature': 430,\n",
              "         'packed': 71,\n",
              "         'utility': 132,\n",
              "         '1': 11082,\n",
              "         'low': 526,\n",
              "         'price': 873,\n",
              "         'protect': 237,\n",
              "         'unwanted': 56,\n",
              "         'hazardous': 21,\n",
              "         'virus': 162,\n",
              "         'secure': 248,\n",
              "         'private': 276,\n",
              "         'valuable': 181,\n",
              "         'information': 2614,\n",
              "         'allow': 350,\n",
              "         'transfer': 833,\n",
              "         'file': 1846,\n",
              "         'send': 1515,\n",
              "         'e': 3472,\n",
              "         'mail': 3502,\n",
              "         'safely': 46,\n",
              "         'backup': 173,\n",
              "         'data': 766,\n",
              "         'easily': 328,\n",
              "         'improve': 118,\n",
              "         'pc': 291,\n",
              "         'performance': 227,\n",
              "         'w': 752,\n",
              "         'superior': 55,\n",
              "         'integral': 28,\n",
              "         'diagnostics': 18,\n",
              "         'great': 653,\n",
              "         '300': 322,\n",
              "         'combined': 60,\n",
              "         'retail': 193,\n",
              "         'value': 2965,\n",
              "         '29': 507,\n",
              "         '99': 759,\n",
              "         'shipping': 298,\n",
              "         'fall': 200,\n",
              "         'prey': 31,\n",
              "         'destructive': 35,\n",
              "         'hacker': 48,\n",
              "         'delay': 88,\n",
              "         'get': 3947,\n",
              "         'copy': 588,\n",
              "         'euro': 152,\n",
              "         'specialdiscounts4u': 8,\n",
              "         'com': 15180,\n",
              "         'email': 5008,\n",
              "         'screened': 4,\n",
              "         'filtered': 20,\n",
              "         'house': 249,\n",
              "         'opt': 323,\n",
              "         'system': 1788,\n",
              "         'compliance': 87,\n",
              "         'state': 1711,\n",
              "         'law': 513,\n",
              "         'wish': 681,\n",
              "         'mailing': 2601,\n",
              "         'well': 1198,\n",
              "         'list': 8929,\n",
              "         'thousand': 438,\n",
              "         'provider': 117,\n",
              "         'dvd': 525,\n",
              "         'optoutd': 1,\n",
              "         'html': 5307,\n",
              "         'multi': 375,\n",
              "         'part': 939,\n",
              "         'message': 2987,\n",
              "         'mime': 434,\n",
              "         'format': 470,\n",
              "         'nextpart': 782,\n",
              "         '000': 2884,\n",
              "         '1cdc19': 3,\n",
              "         '01c25366': 3,\n",
              "         '4b57f3a0': 3,\n",
              "         'content': 3570,\n",
              "         'type': 3489,\n",
              "         'text': 3421,\n",
              "         'plain': 548,\n",
              "         'charset': 1114,\n",
              "         'window': 1048,\n",
              "         '1252': 223,\n",
              "         'encoding': 654,\n",
              "         'quoted': 352,\n",
              "         'printable': 322,\n",
              "         'dare': 32,\n",
              "         'try': 678,\n",
              "         'better': 762,\n",
              "         'annuity': 165,\n",
              "         '20': 7821,\n",
              "         '5': 3766,\n",
              "         'guaranteed': 359,\n",
              "         '0a': 68,\n",
              "         'surrender': 28,\n",
              "         'charge': 277,\n",
              "         'agent': 455,\n",
              "         'commission': 268,\n",
              "         'age': 336,\n",
              "         '80': 358,\n",
              "         '09': 1352,\n",
              "         'call': 1068,\n",
              "         '800': 284,\n",
              "         '888': 86,\n",
              "         '7641': 2,\n",
              "         'ext': 203,\n",
              "         '103': 123,\n",
              "         'name': 4377,\n",
              "         'phone': 1293,\n",
              "         'city': 536,\n",
              "         'pmg': 31,\n",
              "         'financial': 489,\n",
              "         'deposit': 67,\n",
              "         '25': 892,\n",
              "         'totalling': 2,\n",
              "         '999': 42,\n",
              "         'want': 1827,\n",
              "         'anyone': 820,\n",
              "         'receive': 1303,\n",
              "         'communication': 643,\n",
              "         'sent': 911,\n",
              "         'insurance': 628,\n",
              "         'removed': 896,\n",
              "         'reply': 711,\n",
              "         'instead': 546,\n",
              "         'go': 1437,\n",
              "         'www': 9981,\n",
              "         'insuranceiq': 253,\n",
              "         'optout': 166,\n",
              "         'legal': 711,\n",
              "         'notice': 336,\n",
              "         'insiq': 50,\n",
              "         'htm': 874,\n",
              "         'iso': 491,\n",
              "         '8859': 600,\n",
              "         'head': 1608,\n",
              "         'title': 1394,\n",
              "         'meta': 933,\n",
              "         'equiv': 547,\n",
              "         '3d': 44131,\n",
              "         '3diso': 148,\n",
              "         'body': 2439,\n",
              "         'bgcolor': 3453,\n",
              "         '666666': 154,\n",
              "         '000000': 2335,\n",
              "         'font': 43887,\n",
              "         'face': 11809,\n",
              "         'arial': 7290,\n",
              "         'helvetica': 3981,\n",
              "         'sans': 3615,\n",
              "         'serif': 3610,\n",
              "         'table': 5733,\n",
              "         'width': 11367,\n",
              "         '550': 461,\n",
              "         'border': 5021,\n",
              "         'align': 8423,\n",
              "         'center': 6363,\n",
              "         'cellpadding': 2011,\n",
              "         '0': 11733,\n",
              "         'cellspacing': 2064,\n",
              "         'bordercolor': 696,\n",
              "         'ffffff': 3004,\n",
              "         'tr': 12841,\n",
              "         'td': 21420,\n",
              "         'img': 3453,\n",
              "         'src': 3495,\n",
              "         'iiq': 655,\n",
              "         'u': 5203,\n",
              "         'image': 2477,\n",
              "         '20020822': 9,\n",
              "         '101': 118,\n",
              "         'gif': 2561,\n",
              "         'alt': 1080,\n",
              "         'height': 5709,\n",
              "         '55': 213,\n",
              "         'br': 20160,\n",
              "         '102': 55,\n",
              "         'jpg': 856,\n",
              "         '47': 149,\n",
              "         '248': 11,\n",
              "         '2': 10111,\n",
              "         '201': 34,\n",
              "         '32': 275,\n",
              "         '142': 41,\n",
              "         '202': 77,\n",
              "         '10': 2819,\n",
              "         '508': 3,\n",
              "         'b': 15399,\n",
              "         'size': 16561,\n",
              "         '3': 4483,\n",
              "         '535': 44,\n",
              "         '115': 93,\n",
              "         '95': 561,\n",
              "         'method': 581,\n",
              "         'post': 517,\n",
              "         'action': 499,\n",
              "         '65': 544,\n",
              "         '217': 83,\n",
              "         '159': 168,\n",
              "         'response': 583,\n",
              "         'background': 992,\n",
              "         'colspan': 1375,\n",
              "         '15': 1266,\n",
              "         'right': 2811,\n",
              "         'input': 1892,\n",
              "         'contactname': 71,\n",
              "         '50': 2096,\n",
              "         'rowspan': 248,\n",
              "         'valign': 1643,\n",
              "         'middle': 522,\n",
              "         'q3': 11,\n",
              "         '43': 246,\n",
              "         '30': 1668,\n",
              "         'nbsp': 12088,\n",
              "         'submit': 478,\n",
              "         'btnsubmit': 71,\n",
              "         'hidden': 560,\n",
              "         'hdnrecipienttxt': 74,\n",
              "         'rhock': 1,\n",
              "         'pmgsecurities': 1,\n",
              "         'hdnsubjecttxt': 74,\n",
              "         'ad': 1136,\n",
              "         'inquiry': 123,\n",
              "         'sentto': 71,\n",
              "         '304704': 75,\n",
              "         '4': 3944,\n",
              "         '416': 13,\n",
              "         'cccccc': 178,\n",
              "         'p': 13043,\n",
              "         'href': 5251,\n",
              "         'important': 369,\n",
              "         'domain': 364,\n",
              "         'finally': 204,\n",
              "         'available': 869,\n",
              "         'general': 401,\n",
              "         'public': 673,\n",
              "         'discount': 105,\n",
              "         'register': 193,\n",
              "         'one': 4101,\n",
              "         'exciting': 72,\n",
              "         'biz': 166,\n",
              "         'info': 790,\n",
              "         'original': 583,\n",
              "         'net': 6687,\n",
              "         '14': 638,\n",
              "         'brand': 127,\n",
              "         'extension': 50,\n",
              "         'recently': 216,\n",
              "         'approved': 132,\n",
              "         'icann': 15,\n",
              "         'biggest': 87,\n",
              "         'benefit': 359,\n",
              "         'course': 550,\n",
              "         'currently': 348,\n",
              "         'much': 1290,\n",
              "         'easier': 163,\n",
              "         'attractive': 37,\n",
              "         'easy': 733,\n",
              "         'remember': 360,\n",
              "         'affordable': 65,\n",
              "         'registration': 62,\n",
              "         'fee': 234,\n",
              "         'include': 538,\n",
              "         'full': 562,\n",
              "         'access': 656,\n",
              "         'use': 2794,\n",
              "         'control': 408,\n",
              "         'panel': 114,\n",
              "         'manage': 119,\n",
              "         'sincerely': 123,\n",
              "         'administrator': 69,\n",
              "         'remove': 1291,\n",
              "         'address': 2255,\n",
              "         'promotional': 24,\n",
              "         'company': 1860,\n",
              "         'click': 2670,\n",
              "         'centralremovalservice': 17,\n",
              "         'cgi': 589,\n",
              "         'bin': 399,\n",
              "         'g1': 2,\n",
              "         'ss2': 4,\n",
              "         '5592oxer3': 1,\n",
              "         '424uqkh2259kcdl5': 1,\n",
              "         '189geil31': 1,\n",
              "         'bottom': 869,\n",
              "         'line': 1585,\n",
              "         'give': 883,\n",
              "         'away': 375,\n",
              "         'cd': 972,\n",
              "         'people': 2716,\n",
              "         'like': 2615,\n",
              "         'month': 1054,\n",
              "         'let': 690,\n",
              "         'talk': 896,\n",
              "         'product': 1273,\n",
              "         'sample': 148,\n",
              "         'earn': 191,\n",
              "         'next': 728,\n",
              "         '45': 232,\n",
              "         'day': 1737,\n",
              "         'think': 1308,\n",
              "         'kidding': 16,\n",
              "         'earned': 30,\n",
              "         'precisely': 38,\n",
              "         '26': 324,\n",
              "         '087': 10,\n",
              "         '58': 133,\n",
              "         'first': 1552,\n",
              "         '94': 91,\n",
              "         'scanned': 24,\n",
              "         'check': 1175,\n",
              "         'online': 854,\n",
              "         'see': 1492,\n",
              "         'eye': 108,\n",
              "         'tweaked': 11,\n",
              "         'thing': 1189,\n",
              "         'little': 513,\n",
              "         'busy': 57,\n",
              "         'good': 1191,\n",
              "         'talking': 173,\n",
              "         'work': 2222,\n",
              "         'time': 3995,\n",
              "         'helped': 99,\n",
              "         'others': 407,\n",
              "         'julie': 5,\n",
              "         '750': 40,\n",
              "         'week': 851,\n",
              "         'jeff': 23,\n",
              "         '6500': 2,\n",
              "         'exact': 82,\n",
              "         'business': 2409,\n",
              "         'tell': 495,\n",
              "         'exactly': 242,\n",
              "         'expect': 160,\n",
              "         'starting': 206,\n",
              "         'guesswork': 1,\n",
              "         'done': 439,\n",
              "         'seriously': 75,\n",
              "         'evaluate': 22,\n",
              "         'would': 2602,\n",
              "         'happy': 250,\n",
              "         'fly': 36,\n",
              "         'los': 61,\n",
              "         'angeles': 35,\n",
              "         'expense': 148,\n",
              "         'closer': 36,\n",
              "         'look': 958,\n",
              "         'following': 624,\n",
              "         'postal': 87,\n",
              "         'number': 1242,\n",
              "         'area': 421,\n",
              "         'code': 969,\n",
              "         'mailto': 1307,\n",
              "         'cashflows99': 2,\n",
              "         'excite': 125,\n",
              "         'subject': 1572,\n",
              "         'senate': 31,\n",
              "         'bill': 357,\n",
              "         '1618': 71,\n",
              "         'section': 209,\n",
              "         '301': 83,\n",
              "         'statement': 277,\n",
              "         'transmission': 52,\n",
              "         'unsolicited': 129,\n",
              "         'commercial': 201,\n",
              "         'electronic': 173,\n",
              "         'recipient': 133,\n",
              "         'person': 493,\n",
              "         'initiate': 6,\n",
              "         'may': 1589,\n",
              "         'stopped': 71,\n",
              "         'cost': 685,\n",
              "         'sending': 351,\n",
              "         'originating': 11,\n",
              "         'word': 651,\n",
              "         '00b8': 1,\n",
              "         '51e06b6a': 1,\n",
              "         'c8586b31': 1,\n",
              "         'base64': 144,\n",
              "         'sgvyzsdzihrozsbob3r0zxn0ihroaw5nigluierwrhmuie5vdyb5b3ugy2fu': 2,\n",
              "         'ig1ha2ugysbwzxjzb25hbcbiywnrdxancmnvchkgb2ygysbevkqgcmlnahqg': 2,\n",
              "         'b250bybdrc1sliagt3vyicjib3qiig5ldybzb2z0d2fyzsblyxnpbhkgdgfr': 2,\n",
              "         'zxmgew91ihrocm91z2gncnrozsbzdgvwcyb0bybtywtligegy29wesbvzib5': 2,\n",
              "         'b3vyig93bibevkrzlg0kdqpot1cgsu5dtfveruqgrk9siezsruuhienvchkg': 2,\n",
              "         'uexbwvnuqvrjt04sie1vu0ldl01qm3mgyw5kigfsbcbtb2z0d2fyzs4ncg0k': 2,\n",
              "         'lsbtdgvwigj5ifn0zxagsw50zxjhy3rpdmugsw5zdhj1y3rpb25zia0klsbb': 2,\n",
              "         'bgwgu29mdhdhcmugvg9vbhmgsw5jbhvkzwqgt24gq0qgdqotie5vierwrcbc': 2,\n",
              "         'dxjuzxigumvxdwlyzwqgdqotiezsruugtgl2zsbuzwnobmljywwgu3vwcg9y': 2,\n",
              "         'dcanci0gmzagrgf5ifjpc2sgrnjlzsbucmlhbcbbdmfpbgfibgugdqotiezs': 2,\n",
              "         'ruugrhzkie1vdmllig9mihlvdxigy2hvawnlichmsu1jveveifrjtuugt0zg': 2,\n",
              "         'rvihkq0kdqpxzsboyxzliefsbcb0agugc29mdhdhcmugew91ig5lzwqgdg8g': 2,\n",
              "         'q09qwsb5b3vyig93bibevkqgtw92awvzlg0kdqpodhrwoi8vc2ftlm1vdghv': 1,\n",
              "         'c3quy29tl3bvcy9kdmquahrtdqorkysrkysrkysrkysrkysrkysrkysrkysr': 1,\n",
              "         'kysrkysrkysrkysrkysrkysrkysrkysrkysrkysrkysrkysrkysrkysrkysr': 6,\n",
              "         'kysrkysrdqpuaglzigvtywlsighhcybizwvuihnjcmvlbmvkigfuzcbmawx0': 2,\n",
              "         'zxjlzcbiesbvdxigaw4gag91c2ugiijpufqtt1vuiiigc3lzdgvtigluia0k': 2,\n",
              "         'y29tcgxpyw5jzsb3axroihn0yxrligxhd3muielmihlvdsb3axnoihrvicjp': 2,\n",
              "         'ufqtt1vuiibmcm9tihroaxmgbwfpbgluzybhcyb3zwxsia0kyxmgdghligxp': 2,\n",
              "         'c3rzig9mihrob3vzyw5kcyagb2ygb3rozxigzw1hawwgchjvdmlkzxjzihbs': 2,\n",
              "         'zwfzzsb2axnpdcagdqoncmh0dha6ly9zyw0ubw90ag9zdc5jb20vcg9zl29w': 1,\n",
              "         'dg91dgquahrtba0kkysrkysrkysrkysrkysrkysrkysrkysrkysrkysrkysr': 1,\n",
              "         'kysrkysrkysrkysrkysrkysrkysrkysrkysrkysrkysrkysrkysrkysrkw0k': 1,\n",
              "         'odqyovplwm01ltu4ngjsyw4yodi2enhhrdetmtm4qm1uvdywothuswnvny0y': 1,\n",
              "         'mjbyawtnmzyymgw1mg': 1,\n",
              "         'style': 4099,\n",
              "         'cs': 111,\n",
              "         '12px': 80,\n",
              "         'color': 11814,\n",
              "         'navy': 103,\n",
              "         'hello': 148,\n",
              "         'chinese': 84,\n",
              "         'traditional': 82,\n",
              "         'div': 4032,\n",
              "         '376px': 1,\n",
              "         'top': 2217,\n",
              "         '195px': 1,\n",
              "         'left': 1794,\n",
              "         '238px': 4,\n",
              "         'position': 248,\n",
              "         'absolute': 66,\n",
              "         'z': 281,\n",
              "         'visibility': 14,\n",
              "         'visible': 29,\n",
              "         'lime': 61,\n",
              "         'id': 948,\n",
              "         'layer3': 1,\n",
              "         '73px': 1,\n",
              "         '14px': 11,\n",
              "         '172px': 3,\n",
              "         'olive': 3,\n",
              "         'layer2': 2,\n",
              "         '39px': 1,\n",
              "         '13px': 2,\n",
              "         '149px': 1,\n",
              "         '239px': 1,\n",
              "         'silver': 17,\n",
              "         'layer1': 3,\n",
              "         '21': 758,\n",
              "         'f': 960,\n",
              "         'r': 1676,\n",
              "         'v': 656,\n",
              "         'c': 1819,\n",
              "         'n': 1100,\n",
              "         'emarketer': 1,\n",
              "         'average': 229,\n",
              "         'range': 153,\n",
              "         'banner': 161,\n",
              "         'direct': 238,\n",
              "         'ff0080': 32,\n",
              "         '1000': 201,\n",
              "         '500hk': 2,\n",
              "         '9000': 11,\n",
              "         '3600hk': 1,\n",
              "         '400hk': 2,\n",
              "         '325': 33,\n",
              "         '5500hk': 1,\n",
              "         'jjyx': 4,\n",
              "         'serve': 61,\n",
              "         'hk1': 2,\n",
              "         'txt': 117,\n",
              "         'target': 541,\n",
              "         'blank': 395,\n",
              "         '21px': 6,\n",
              "         'ff0000': 1352,\n",
              "         'download': 322,\n",
              "         '4500hk': 1,\n",
              "         'wd': 10,\n",
              "         'taiwan': 16,\n",
              "         '0080ff': 3,\n",
              "         'l': 927,\n",
              "         '90': 292,\n",
              "         '60': 360,\n",
              "         '2500hk': 1,\n",
              "         '4000hk': 1,\n",
              "         '2000': 271,\n",
              "         '500': 587,\n",
              "         '9500hk': 1,\n",
              "         '5000': 51,\n",
              "         'ff8040': 3,\n",
              "         'span': 2827,\n",
              "         'lang': 494,\n",
              "         'en': 682,\n",
              "         '9pt': 29,\n",
              "         '0000c4': 1,\n",
              "         'mso': 839,\n",
              "         'fareast': 100,\n",
              "         'family': 1835,\n",
              "         'pmingliu': 9,\n",
              "         'language': 430,\n",
              "         'zh': 32,\n",
              "         'tw': 39,\n",
              "         '70': 332,\n",
              "         'ascii': 221,\n",
              "         'roman': 566,\n",
              "         'hansi': 8,\n",
              "         '2200': 33,\n",
              "         'hk': 17,\n",
              "         '0000bf': 1,\n",
              "         'yhzx599': 6,\n",
              "         'vip': 36,\n",
              "         'sina': 6,\n",
              "         'r2200': 1,\n",
              "         '6000': 13,\n",
              "         'm200': 1,\n",
              "         '32525642': 1,\n",
              "         '20012356': 1,\n",
              "         'q': 418,\n",
              "         'g': 832,\n",
              "         'k': 400,\n",
              "         'english': 117,\n",
              "         'benificiary': 2,\n",
              "         'customer': 601,\n",
              "         'wangjingjing': 1,\n",
              "         'bank': 333,\n",
              "         'china': 350,\n",
              "         'mianyang': 1,\n",
              "         'branch': 50,\n",
              "         '8209': 2,\n",
              "         '9802': 2,\n",
              "         '0003': 9,\n",
              "         '158': 26,\n",
              "         'tel': 107,\n",
              "         '0816': 4,\n",
              "         '6623109': 4,\n",
              "         'j': 516,\n",
              "         '0086': 4,\n",
              "         'x': 983,\n",
              "         'hr': 364,\n",
              "         'secured': 26,\n",
              "         'investements': 2,\n",
              "         '625': 19,\n",
              "         'tbody': 1135,\n",
              "         'green': 118,\n",
              "         '7': 1596,\n",
              "         'wealth': 99,\n",
              "         'risk': 420,\n",
              "         'black': 784,\n",
              "         'discover': 175,\n",
              "         'kept': 111,\n",
              "         'secret': 361,\n",
              "         'america': 384,\n",
              "         '006600': 156,\n",
              "         '515': 5,\n",
              "         'ccffcc': 4,\n",
              "         '99ff00': 1,\n",
              "         '339900': 1,\n",
              "         'verdana': 3985,\n",
              "         'turning': 35,\n",
              "         '003300': 12,\n",
              "         'oklahoma': 16,\n",
              "         'craig': 82,\n",
              "         'talkington': 2,\n",
              "         'purchased': 67,\n",
              "         'tax': 262,\n",
              "         'lien': 21,\n",
              "         'acre': 16,\n",
              "         'parcel': 6,\n",
              "         'failed': 140,\n",
              "         'pay': 502,\n",
              "         'forfeited': 4,\n",
              "         'short': 245,\n",
              "         'later': 312,\n",
              "         'sold': 155,\n",
              "         'property': 272,\n",
              "         'neighbor': 74,\n",
              "         'kind': 391,\n",
              "         'money': 1907,\n",
              "         'buy': 472,\n",
              "         'car': 247,\n",
              "         'sends': 39,\n",
              "         'young': 118,\n",
              "         'college': 128,\n",
              "         'stop': 467,\n",
              "         'bought': 71,\n",
              "         '17': 520,\n",
              "         'ten': 122,\n",
              "         'track': 271,\n",
              "         'ended': 41,\n",
              "         'know': 1594,\n",
              "         'making': 489,\n",
              "         'profit': 204,\n",
              "         'change': 1314,\n",
              "         'life': 1142,\n",
              "         'solve': 82,\n",
              "         'problem': 1229,\n",
              "         'make': 2353,\n",
              "         'lot': 665,\n",
              "         '000033': 48,\n",
              "         'janice': 5,\n",
              "         'knetzger': 1,\n",
              "         'turned': 113,\n",
              "         '463': 14,\n",
              "         '00': 2571,\n",
              "         'investment': 492,\n",
              "         'wayne': 23,\n",
              "         'robertson': 4,\n",
              "         'paid': 291,\n",
              "         'todd': 9,\n",
              "         'beemer': 1,\n",
              "         '150': 189,\n",
              "         '530': 26,\n",
              "         'serious': 167,\n",
              "         'investor': 191,\n",
              "         'entrepreneur': 85,\n",
              "         'consultantion': 1,\n",
              "         'qualify': 109,\n",
              "         '250': 258,\n",
              "         '400': 258,\n",
              "         'required': 360,\n",
              "         'field': 244,\n",
              "         'bordercolordark': 96,\n",
              "         '333300': 35,\n",
              "         '600': 256,\n",
              "         'bordercolorlight': 110,\n",
              "         'ffffcc': 188,\n",
              "         'taxsale06': 1,\n",
              "         'btamail': 169,\n",
              "         'cn': 213,\n",
              "         'enctype': 40,\n",
              "         'select': 424,\n",
              "         '475': 17,\n",
              "         'deed': 17,\n",
              "         'directly': 189,\n",
              "         'support': 735,\n",
              "         'local': 459,\n",
              "         'fire': 121,\n",
              "         'department': 161,\n",
              "         'police': 104,\n",
              "         'school': 233,\n",
              "         'road': 139,\n",
              "         'hospital': 37,\n",
              "         'thank': 368,\n",
              "         'centralmailer': 1,\n",
              "         '4589dfsl1': 1,\n",
              "         '151rzeh9359iyoc9': 1,\n",
              "         '006fl29': 1,\n",
              "         'ffccff': 16,\n",
              "         'free4pornlovers': 3,\n",
              "         'simply': 485,\n",
              "         'amateur': 66,\n",
              "         '990000': 85,\n",
              "         '660066': 4,\n",
              "         '9933ff': 1,\n",
              "         'girl': 141,\n",
              "         'door': 73,\n",
              "         'xxx': 56,\n",
              "         'tour': 40,\n",
              "         'ff0099': 1,\n",
              "         'photo': 153,\n",
              "         'sneeky': 1,\n",
              "         'cam': 32,\n",
              "         'nude': 13,\n",
              "         'exibitionists': 1,\n",
              "         'cheating': 15,\n",
              "         'wife': 138,\n",
              "         'girlfriend': 14,\n",
              "         'pl': 373,\n",
              "         'generator': 185,\n",
              "         'microsoft': 423,\n",
              "         'frontpage': 206,\n",
              "         'progid': 94,\n",
              "         'editor': 225,\n",
              "         'document': 405,\n",
              "         'answer': 454,\n",
              "         'link': 1419,\n",
              "         'vlink': 145,\n",
              "         '333399': 65,\n",
              "         'alink': 74,\n",
              "         'collapse': 361,\n",
              "         '425074': 8,\n",
              "         '586': 11,\n",
              "         'autonumber1': 13,\n",
              "         '627': 3,\n",
              "         'redirect': 34,\n",
              "         '440': 22,\n",
              "         '390': 10,\n",
              "         'noshade': 58,\n",
              "         'd76f3a': 15,\n",
              "         'unlist': 3,\n",
              "         '78': 133,\n",
              "         '105': 72,\n",
              "         '304d71': 6,\n",
              "         'brought': 83,\n",
              "         'current': 477,\n",
              "         'federal': 288,\n",
              "         'newwin': 3,\n",
              "         'receiving': 417,\n",
              "         'someone': 562,\n",
              "         'registered': 134,\n",
              "         'offer': 1257,\n",
              "         'marketing': 779,\n",
              "         'partner': 349,\n",
              "         'screening': 45,\n",
              "         'knowledge': 176,\n",
              "         'honor': 89,\n",
              "         'request': 440,\n",
              "         'within': 833,\n",
              "         '72': 370,\n",
              "         'hour': 715,\n",
              "         'received': 737,\n",
              "         'error': 629,\n",
              "         'apologize': 74,\n",
              "         'inconvenience': 58,\n",
              "         'caused': 87,\n",
              "         'unlisted': 24,\n",
              "         'database': 456,\n",
              "         'redirect2': 1,\n",
              "         'forwarded': 153,\n",
              "         'provide': 454,\n",
              "         'old': 834,\n",
              "         '602': 15,\n",
              "         '111111': 153,\n",
              "         '166': 34,\n",
              "         'white': 386,\n",
              "         '91': 114,\n",
              "         '161': 45,\n",
              "         '32336b': 3,\n",
              "         '84': 152,\n",
              "         '157': 75,\n",
              "         'nswer': 1,\n",
              "         'nationwide': 45,\n",
              "         '00008b': 5,\n",
              "         '8': 1372,\n",
              "         '428': 3,\n",
              "         '323460': 1,\n",
              "         'campaign': 128,\n",
              "         'produced': 66,\n",
              "         'staggering': 23,\n",
              "         'darkblue': 14,\n",
              "         'big': 677,\n",
              "         'responsive': 48,\n",
              "         'targeted': 167,\n",
              "         'managed': 75,\n",
              "         'nobr': 46,\n",
              "         'ff7c3e': 1,\n",
              "         '603': 9,\n",
              "         '12': 1193,\n",
              "         'copyright': 323,\n",
              "         'reserved': 159,\n",
              "         'consumer': 162,\n",
              "         'increase': 414,\n",
              "         'sale': 602,\n",
              "         'targeting': 20,\n",
              "         'million': 1052,\n",
              "         'via': 398,\n",
              "         'bulk': 247,\n",
              "         'super': 121,\n",
              "         'act': 425,\n",
              "         'fresh': 93,\n",
              "         'bring': 159,\n",
              "         'incredible': 70,\n",
              "         'result': 685,\n",
              "         'really': 819,\n",
              "         'regarding': 144,\n",
              "         'way': 1710,\n",
              "         'period': 146,\n",
              "         'advertising': 277,\n",
              "         'newsgroups': 49,\n",
              "         'competing': 37,\n",
              "         'midst': 18,\n",
              "         'classified': 69,\n",
              "         'web': 1400,\n",
              "         'site': 1791,\n",
              "         'take': 1261,\n",
              "         'visitor': 57,\n",
              "         'expensive': 80,\n",
              "         'iffy': 9,\n",
              "         'zine': 13,\n",
              "         'huge': 230,\n",
              "         'search': 740,\n",
              "         'engine': 375,\n",
              "         'buried': 38,\n",
              "         'contact': 686,\n",
              "         'potential': 244,\n",
              "         'likely': 190,\n",
              "         'read': 714,\n",
              "         'reading': 246,\n",
              "         'rather': 366,\n",
              "         'searching': 106,\n",
              "         'countless': 18,\n",
              "         'posting': 104,\n",
              "         'divided': 15,\n",
              "         'group': 1632,\n",
              "         'compressed': 20,\n",
              "         'order': 1799,\n",
              "         'recieve': 32,\n",
              "         'bonus': 364,\n",
              "         '48': 222,\n",
              "         'technical': 145,\n",
              "         'additional': 217,\n",
              "         'rom': 146,\n",
              "         'deliverable': 13,\n",
              "         'internet': 1481,\n",
              "         'book': 454,\n",
              "         'report': 1554,\n",
              "         'manual': 136,\n",
              "         'reprint': 17,\n",
              "         'resale': 10,\n",
              "         'produce': 132,\n",
              "         'penny': 55,\n",
              "         'resell': 40,\n",
              "         'dollar': 578,\n",
              "         'mass': 248,\n",
              "         'mailer': 177,\n",
              "         'delivery': 133,\n",
              "         'operating': 147,\n",
              "         'instruction': 382,\n",
              "         'informational': 11,\n",
              "         'guide': 396,\n",
              "         'started': 301,\n",
              "         'worth': 242,\n",
              "         'limited': 265,\n",
              "         'supply': 196,\n",
              "         'last': 784,\n",
              "         'dream': 174,\n",
              "         'unbelievable': 24,\n",
              "         'ordering': 147,\n",
              "         'fax': 546,\n",
              "         'card': 817,\n",
              "         '3pm': 18,\n",
              "         'central': 116,\n",
              "         'place': 634,\n",
              "         '308': 34,\n",
              "         '650': 29,\n",
              "         '5905': 7,\n",
              "         '121': 49,\n",
              "         '415': 24,\n",
              "         '873': 23,\n",
              "         '2700': 17,\n",
              "         'cut': 162,\n",
              "         'paste': 144,\n",
              "         'print': 220,\n",
              "         'ez': 64,\n",
              "         'office': 371,\n",
              "         'effect': 247,\n",
              "         'seven': 116,\n",
              "         'back': 1304,\n",
              "         'regular': 258,\n",
              "         'tomorrow': 69,\n",
              "         'accept': 210,\n",
              "         'visa': 100,\n",
              "         'mastercard': 68,\n",
              "         'amex': 22,\n",
              "         'disc': 51,\n",
              "         'everything': 424,\n",
              "         'disk': 296,\n",
              "         'along': 246,\n",
              "         'plus': 418,\n",
              "         '093': 12,\n",
              "         '808': 10,\n",
              "         'indicated': 25,\n",
              "         'missed': 58,\n",
              "         'clean': 208,\n",
              "         'h': 737,\n",
              "         'oop': 7,\n",
              "         'option': 2813,\n",
              "         'fedex': 38,\n",
              "         'overnight': 43,\n",
              "         'including': 459,\n",
              "         'hawaii': 54,\n",
              "         'alaska': 31,\n",
              "         'canada': 159,\n",
              "         'international': 331,\n",
              "         'add': 554,\n",
              "         'total': 416,\n",
              "         'sorry': 176,\n",
              "         'continental': 25,\n",
              "         'carefully': 85,\n",
              "         'note': 439,\n",
              "         'cannot': 303,\n",
              "         'shipped': 70,\n",
              "         'complete': 498,\n",
              "         'signature': 630,\n",
              "         'exception': 33,\n",
              "         'ship': 90,\n",
              "         'street': 248,\n",
              "         'box': 525,\n",
              "         'zip': 176,\n",
              "         'tracking': 55,\n",
              "         'case': 837,\n",
              "         'question': 695,\n",
              "         'confirmation': 62,\n",
              "         '24': 709,\n",
              "         'expiration': 34,\n",
              "         'date': 1233,\n",
              "         'amount': 327,\n",
              "         'understand': 309,\n",
              "         'purchasing': 46,\n",
              "         'authorize': 15,\n",
              "         'rented': 10,\n",
              "         'mine': 105,\n",
              "         'included': 292,\n",
              "         'considered': 168,\n",
              "         'transaction': 315,\n",
              "         'responsibility': 66,\n",
              "         'comply': 19,\n",
              "         'applicable': 23,\n",
              "         'opened': 61,\n",
              "         'returned': 73,\n",
              "         'however': 562,\n",
              "         'found': 663,\n",
              "         'defective': 8,\n",
              "         'replaced': 42,\n",
              "         'to1': 3,\n",
              "         'draft': 38,\n",
              "         'held': 148,\n",
              "         'clearance': 17,\n",
              "         'payable': 33,\n",
              "         'offlist': 9,\n",
              "         'trudymail2002': 2,\n",
              "         'themail': 7,\n",
              "         'offitnow': 1,\n",
              "         'tired': 212,\n",
              "         'paying': 127,\n",
              "         'buck': 64,\n",
              "         'satellite': 118,\n",
              "         'dont': 87,\n",
              "         '97': 112,\n",
              "         'programming': 126,\n",
              "         'channel': 97,\n",
              "         'per': 764,\n",
              "         'view': 285,\n",
              "         ...})"
            ]
          },
          "metadata": {},
          "execution_count": 35
        }
      ]
    },
    {
      "cell_type": "code",
      "source": [
        "word_dict = Counter(words)"
      ],
      "metadata": {
        "id": "cUC4HeQ6g_et"
      },
      "execution_count": 36,
      "outputs": []
    },
    {
      "cell_type": "code",
      "source": [
        "common = word_dict.most_common()\n",
        "  "
      ],
      "metadata": {
        "id": "sz22c4Kfg7Gp"
      },
      "execution_count": 37,
      "outputs": []
    },
    {
      "cell_type": "code",
      "source": [
        "common_words = []\n",
        "for entry in common:\n",
        "  c_word = entry[0]\n",
        "  common_words.append(c_word)"
      ],
      "metadata": {
        "id": "fPIflxuQiDYo"
      },
      "execution_count": 38,
      "outputs": []
    },
    {
      "cell_type": "code",
      "source": [
        "print(len(common_words))"
      ],
      "metadata": {
        "colab": {
          "base_uri": "https://localhost:8080/"
        },
        "id": "ixxw1urVkYOb",
        "outputId": "852c200e-3fe1-4936-b618-303d5c75ad1d"
      },
      "execution_count": 39,
      "outputs": [
        {
          "output_type": "stream",
          "name": "stdout",
          "text": [
            "95546\n"
          ]
        }
      ]
    },
    {
      "cell_type": "code",
      "source": [
        "most_common = common_words[0:2500]"
      ],
      "metadata": {
        "id": "9cryzRDLlA5D"
      },
      "execution_count": 40,
      "outputs": []
    },
    {
      "cell_type": "code",
      "source": [
        "print(len(most_common))"
      ],
      "metadata": {
        "colab": {
          "base_uri": "https://localhost:8080/"
        },
        "id": "8Ta01wpPlHI4",
        "outputId": "1b89445d-8520-400d-ad39-3b23db0ba344"
      },
      "execution_count": 41,
      "outputs": [
        {
          "output_type": "stream",
          "name": "stdout",
          "text": [
            "2500\n"
          ]
        }
      ]
    },
    {
      "cell_type": "code",
      "source": [
        "df.head()"
      ],
      "metadata": {
        "colab": {
          "base_uri": "https://localhost:8080/",
          "height": 206
        },
        "id": "-8hRP2_2nBMQ",
        "outputId": "15370d60-b337-4fed-82d4-88d3aa9cc26d"
      },
      "execution_count": 42,
      "outputs": [
        {
          "output_type": "execute_result",
          "data": {
            "text/plain": [
              "   CATEGORY                                            MESSAGE\n",
              "0         1  Dear Homeowner,\\n\\n \\n\\nInterest Rates are at ...\n",
              "1         1  ATTENTION: This is a MUST for ALL Computer Use...\n",
              "2         1  This is a multi-part message in MIME format.\\n...\n",
              "3         1  IMPORTANT INFORMATION:\\n\\n\\n\\nThe new domain n...\n",
              "4         1  This is the bottom line.  If you can GIVE AWAY..."
            ],
            "text/html": [
              "\n",
              "  <div id=\"df-55f93d81-995b-4fe1-8269-cda67fb18fe5\">\n",
              "    <div class=\"colab-df-container\">\n",
              "      <div>\n",
              "<style scoped>\n",
              "    .dataframe tbody tr th:only-of-type {\n",
              "        vertical-align: middle;\n",
              "    }\n",
              "\n",
              "    .dataframe tbody tr th {\n",
              "        vertical-align: top;\n",
              "    }\n",
              "\n",
              "    .dataframe thead th {\n",
              "        text-align: right;\n",
              "    }\n",
              "</style>\n",
              "<table border=\"1\" class=\"dataframe\">\n",
              "  <thead>\n",
              "    <tr style=\"text-align: right;\">\n",
              "      <th></th>\n",
              "      <th>CATEGORY</th>\n",
              "      <th>MESSAGE</th>\n",
              "    </tr>\n",
              "  </thead>\n",
              "  <tbody>\n",
              "    <tr>\n",
              "      <th>0</th>\n",
              "      <td>1</td>\n",
              "      <td>Dear Homeowner,\\n\\n \\n\\nInterest Rates are at ...</td>\n",
              "    </tr>\n",
              "    <tr>\n",
              "      <th>1</th>\n",
              "      <td>1</td>\n",
              "      <td>ATTENTION: This is a MUST for ALL Computer Use...</td>\n",
              "    </tr>\n",
              "    <tr>\n",
              "      <th>2</th>\n",
              "      <td>1</td>\n",
              "      <td>This is a multi-part message in MIME format.\\n...</td>\n",
              "    </tr>\n",
              "    <tr>\n",
              "      <th>3</th>\n",
              "      <td>1</td>\n",
              "      <td>IMPORTANT INFORMATION:\\n\\n\\n\\nThe new domain n...</td>\n",
              "    </tr>\n",
              "    <tr>\n",
              "      <th>4</th>\n",
              "      <td>1</td>\n",
              "      <td>This is the bottom line.  If you can GIVE AWAY...</td>\n",
              "    </tr>\n",
              "  </tbody>\n",
              "</table>\n",
              "</div>\n",
              "      <button class=\"colab-df-convert\" onclick=\"convertToInteractive('df-55f93d81-995b-4fe1-8269-cda67fb18fe5')\"\n",
              "              title=\"Convert this dataframe to an interactive table.\"\n",
              "              style=\"display:none;\">\n",
              "        \n",
              "  <svg xmlns=\"http://www.w3.org/2000/svg\" height=\"24px\"viewBox=\"0 0 24 24\"\n",
              "       width=\"24px\">\n",
              "    <path d=\"M0 0h24v24H0V0z\" fill=\"none\"/>\n",
              "    <path d=\"M18.56 5.44l.94 2.06.94-2.06 2.06-.94-2.06-.94-.94-2.06-.94 2.06-2.06.94zm-11 1L8.5 8.5l.94-2.06 2.06-.94-2.06-.94L8.5 2.5l-.94 2.06-2.06.94zm10 10l.94 2.06.94-2.06 2.06-.94-2.06-.94-.94-2.06-.94 2.06-2.06.94z\"/><path d=\"M17.41 7.96l-1.37-1.37c-.4-.4-.92-.59-1.43-.59-.52 0-1.04.2-1.43.59L10.3 9.45l-7.72 7.72c-.78.78-.78 2.05 0 2.83L4 21.41c.39.39.9.59 1.41.59.51 0 1.02-.2 1.41-.59l7.78-7.78 2.81-2.81c.8-.78.8-2.07 0-2.86zM5.41 20L4 18.59l7.72-7.72 1.47 1.35L5.41 20z\"/>\n",
              "  </svg>\n",
              "      </button>\n",
              "      \n",
              "  <style>\n",
              "    .colab-df-container {\n",
              "      display:flex;\n",
              "      flex-wrap:wrap;\n",
              "      gap: 12px;\n",
              "    }\n",
              "\n",
              "    .colab-df-convert {\n",
              "      background-color: #E8F0FE;\n",
              "      border: none;\n",
              "      border-radius: 50%;\n",
              "      cursor: pointer;\n",
              "      display: none;\n",
              "      fill: #1967D2;\n",
              "      height: 32px;\n",
              "      padding: 0 0 0 0;\n",
              "      width: 32px;\n",
              "    }\n",
              "\n",
              "    .colab-df-convert:hover {\n",
              "      background-color: #E2EBFA;\n",
              "      box-shadow: 0px 1px 2px rgba(60, 64, 67, 0.3), 0px 1px 3px 1px rgba(60, 64, 67, 0.15);\n",
              "      fill: #174EA6;\n",
              "    }\n",
              "\n",
              "    [theme=dark] .colab-df-convert {\n",
              "      background-color: #3B4455;\n",
              "      fill: #D2E3FC;\n",
              "    }\n",
              "\n",
              "    [theme=dark] .colab-df-convert:hover {\n",
              "      background-color: #434B5C;\n",
              "      box-shadow: 0px 1px 3px 1px rgba(0, 0, 0, 0.15);\n",
              "      filter: drop-shadow(0px 1px 2px rgba(0, 0, 0, 0.3));\n",
              "      fill: #FFFFFF;\n",
              "    }\n",
              "  </style>\n",
              "\n",
              "      <script>\n",
              "        const buttonEl =\n",
              "          document.querySelector('#df-55f93d81-995b-4fe1-8269-cda67fb18fe5 button.colab-df-convert');\n",
              "        buttonEl.style.display =\n",
              "          google.colab.kernel.accessAllowed ? 'block' : 'none';\n",
              "\n",
              "        async function convertToInteractive(key) {\n",
              "          const element = document.querySelector('#df-55f93d81-995b-4fe1-8269-cda67fb18fe5');\n",
              "          const dataTable =\n",
              "            await google.colab.kernel.invokeFunction('convertToInteractive',\n",
              "                                                     [key], {});\n",
              "          if (!dataTable) return;\n",
              "\n",
              "          const docLinkHtml = 'Like what you see? Visit the ' +\n",
              "            '<a target=\"_blank\" href=https://colab.research.google.com/notebooks/data_table.ipynb>data table notebook</a>'\n",
              "            + ' to learn more about interactive tables.';\n",
              "          element.innerHTML = '';\n",
              "          dataTable['output_type'] = 'display_data';\n",
              "          await google.colab.output.renderOutput(dataTable, element);\n",
              "          const docLink = document.createElement('div');\n",
              "          docLink.innerHTML = docLinkHtml;\n",
              "          element.appendChild(docLink);\n",
              "        }\n",
              "      </script>\n",
              "    </div>\n",
              "  </div>\n",
              "  "
            ]
          },
          "metadata": {},
          "execution_count": 42
        }
      ]
    },
    {
      "cell_type": "code",
      "source": [
        "def word_count(text):\n",
        "  dict_words = {}\n",
        "  list_words = []\n",
        "\n",
        "  for word in most_common:\n",
        "    if word in text:\n",
        "      dict_words[word] = 1\n",
        "      # list_words.append(1)\n",
        "    else:\n",
        "      dict_words[word] = 0\n",
        "      # list_words.append(0)\n",
        "  return(dict_words)\n",
        "  # print(list_words)\n",
        "  # pd.DataFrame(dict_words, index = [0])\n",
        "  # print(word_df)\n",
        "\n",
        "  \n",
        "    \n",
        "\n",
        "  \n",
        "\n",
        "    \n"
      ],
      "metadata": {
        "id": "EtMKAsmMUwuE"
      },
      "execution_count": 57,
      "outputs": []
    },
    {
      "cell_type": "code",
      "source": [],
      "metadata": {
        "id": "_n2F-a3QrtbV"
      },
      "execution_count": null,
      "outputs": []
    },
    {
      "cell_type": "code",
      "source": [
        "print(len(corpus))"
      ],
      "metadata": {
        "colab": {
          "base_uri": "https://localhost:8080/"
        },
        "id": "JySOji7co5_u",
        "outputId": "a19ddc8c-e421-4667-c634-7dde137d5020"
      },
      "execution_count": 45,
      "outputs": [
        {
          "output_type": "stream",
          "name": "stdout",
          "text": [
            "5796\n"
          ]
        }
      ]
    },
    {
      "cell_type": "code",
      "source": [
        "print(corpus[2])"
      ],
      "metadata": {
        "colab": {
          "base_uri": "https://localhost:8080/"
        },
        "id": "eavYddEmo_BV",
        "outputId": "81340eaf-ee95-4d8c-dcef-32352c301d0b"
      },
      "execution_count": 47,
      "outputs": [
        {
          "output_type": "stream",
          "name": "stdout",
          "text": [
            "multi part message mime format nextpart 000 1cdc19 01c25366 4b57f3a0 content type text plain charset window 1252 content transfer encoding quoted printable dare try find better annuity 20 5 40 guaranteed 6 year 0a 6 year surrender charge 0a 5 agent commission age 80 09 call today information 800 888 7641 ext 103 please fill form information 20 name 09 e mail 20 phone 20 city state 20 09 20 pmg financial service 5 40 deposit 100 000 5 25 interest deposit totalling 25 000 99 999 20 want anyone receive mailing wish receive professional communication sent insurance professional removed mailing list reply message instead go http www insuranceiq com optout http www insuranceiq com optout 20 legal notice http www insiq com legal htm 20 nextpart 000 1cdc19 01c25366 4b57f3a0 content type text html charset iso 8859 1 content transfer encoding quoted printable html head title dare find better annuity title meta http equiv 3d content type content 3d text html charset 3diso 8859 1 head body bgcolor 3d 666666 text 3d 000000 font face 3d arial helvetica sans serif 20 table width 3d 550 border 3d 1 align 3d center cellpadding 3d 0 cellspacing 3d 0 bordercolor 3d 000000 bgcolor 3d ffffff tr 20 td img src 3d http iiq u image pmg 20020822 101 gif alt 3d dare width 3d 550 height 3d 55 br img src 3d http iiq u image pmg 20020822 102 jpg alt 3d try find better annuity width 3d 550 height 3d 47 br img src 3d http iiq u image pmg 20020822 103 jpg width 3d 550 height 3d 248 20 table width 3d 100 cellpadding 3d 2 cellspacing 3d 2 border 3d 0 bgcolor 3d ffffff tr 20 td img src 3d http iiq u image pmg 20020822 201 gif width 3d 32 height 3d 142 img src 3d http iiq u image pmg 20020822 202 gif alt 3d 5 40 guaranteed 6 year 10 6 year surrender charge 10 5 agent commission age 80 width 3d 508 height 3d 142 td tr tr 20 td align 3d center b font size 3d 2 call today information br img src 3d http iiq u image pmg 20020822 3 gif alt 3d 800 888 7641 ext 103 width 3d 535 height 3d 115 br font b br table width 3d 95 border 3d 1 cellpadding 3d 0 cellspacing 3d 0 bordercolor 3d 000000 tr 20 form method 3d post action 3d http 65 217 159 103 response response asp td 20 table width 3d 100 border 3d 0 align 3d center cellpadding 3d 2 cellspacing 3d 0 background 3d http iiq u image pmg 20020822 5 gif bgcolor 3d ffffff tr 20 td colspan 3d 5 align 3d center b font size 3d 2 please fill form information font b td tr tr 20 td width 3d 15 align 3d right b font size 3d 2 name font b td td colspan 3d 3 input type 3d text name 3d contactname size 3d 50 td td rowspan 3d 5 valign 3d middle align 3d center img src 3d http iiq u image q3 gif width 3d 43 height 3d 50 td tr tr 20 td width 3d 15 align 3d right b font size 3d 2 e mail font b td td colspan 3d 3 input type 3d text name 3d email size 3d 50 td tr tr 20 td width 3d 15 align 3d right b font size 3d 2 phone font b td td colspan 3d 3 input type 3d text name 3d phone size 3d 50 td tr tr 20 td width 3d 15 align 3d right b font size 3d 2 city font b td td width 3d 30 input type 3d text name 3d city size 3d 20 td td width 3d 15 align 3d right b font size 3d 2 state font b td td width 3d 20 input type 3d text name 3d state size 3d 2 td tr tr 20 td width 3d 15 align 3d right nbsp td td width 3d 30 colspan 3d 3 20 input type 3d submit name 3d btnsubmit value 3d submit input type 3d hidden name 3d hdnrecipienttxt value 3d rhock pmgsecurities com input type 3d hidden name 3d hdnsubjecttxt value 3d pmg dare ad inquiry td tr table td input type 3d hidden name 3d sentto value 3d 304704 form tr table b font size 3d 2 img src 3d http iiq u image pmg 20020822 4 gif alt 3d pmg financial service width 3d 416 height 3d 142 20 font b td tr tr 20 td font size 3d 1 5 40 deposit 100 000 5 25 interest deposit totalling 25 000 99 999 font td tr table td tr tr 20 td width 3d 100 bgcolor 3d cccccc align 3d center p font face 3d arial helvetica sans serif size 3d 1 20 want anyone receive mailing 20 wish receive professional communication 20 sent insurance professional removed mailing 20 list b reply b message instead go href 3d http www insuranceiq com optout 20 http www insuranceiq com optout font p td tr table center href 3d http www insiq com legal htm font size 3d 1 face 3d arial helvetica sans serif legal notice font 20 center font body html nextpart 000 1cdc19 01c25366 4b57f3a0\n"
          ]
        }
      ]
    },
    {
      "cell_type": "code",
      "source": [
        "word_array = []\n",
        "for i in range(len(corpus)):\n",
        "\n",
        "  text = corpus[i]\n",
        "  text = text.split()\n",
        "  word_val = word_count(text) \n",
        "  for key, value in word_val.items:\n",
        "    word_array.append(value)\n"
      ],
      "metadata": {
        "colab": {
          "base_uri": "https://localhost:8080/",
          "height": 217
        },
        "id": "9bukT7gpmHU8",
        "outputId": "4cf19136-844c-4cba-b250-ed973dfd2dff"
      },
      "execution_count": 60,
      "outputs": [
        {
          "output_type": "error",
          "ename": "TypeError",
          "evalue": "ignored",
          "traceback": [
            "\u001b[0;31m---------------------------------------------------------------------------\u001b[0m",
            "\u001b[0;31mTypeError\u001b[0m                                 Traceback (most recent call last)",
            "\u001b[0;32m<ipython-input-60-e4cf7f9cb3b9>\u001b[0m in \u001b[0;36m<module>\u001b[0;34m\u001b[0m\n\u001b[1;32m      5\u001b[0m   \u001b[0mtext\u001b[0m \u001b[0;34m=\u001b[0m \u001b[0mtext\u001b[0m\u001b[0;34m.\u001b[0m\u001b[0msplit\u001b[0m\u001b[0;34m(\u001b[0m\u001b[0;34m)\u001b[0m\u001b[0;34m\u001b[0m\u001b[0;34m\u001b[0m\u001b[0m\n\u001b[1;32m      6\u001b[0m   \u001b[0mword_val\u001b[0m \u001b[0;34m=\u001b[0m \u001b[0mword_count\u001b[0m\u001b[0;34m(\u001b[0m\u001b[0mtext\u001b[0m\u001b[0;34m)\u001b[0m\u001b[0;34m\u001b[0m\u001b[0;34m\u001b[0m\u001b[0m\n\u001b[0;32m----> 7\u001b[0;31m   \u001b[0;32mfor\u001b[0m \u001b[0mkey\u001b[0m\u001b[0;34m,\u001b[0m \u001b[0mvalue\u001b[0m \u001b[0;32min\u001b[0m \u001b[0mword_val\u001b[0m\u001b[0;34m.\u001b[0m\u001b[0mitems\u001b[0m\u001b[0;34m:\u001b[0m\u001b[0;34m\u001b[0m\u001b[0;34m\u001b[0m\u001b[0m\n\u001b[0m\u001b[1;32m      8\u001b[0m     \u001b[0mword_array\u001b[0m\u001b[0;34m.\u001b[0m\u001b[0mappend\u001b[0m\u001b[0;34m(\u001b[0m\u001b[0mvalue\u001b[0m\u001b[0;34m)\u001b[0m\u001b[0;34m\u001b[0m\u001b[0;34m\u001b[0m\u001b[0m\n",
            "\u001b[0;31mTypeError\u001b[0m: 'builtin_function_or_method' object is not iterable"
          ]
        }
      ]
    },
    {
      "cell_type": "code",
      "source": [
        "print(word_array[1:3])"
      ],
      "metadata": {
        "colab": {
          "base_uri": "https://localhost:8080/"
        },
        "id": "UQgDe7BipltT",
        "outputId": "7d268d9f-fadf-4425-f308-f63cfe1c4706"
      },
      "execution_count": 56,
      "outputs": [
        {
          "output_type": "stream",
          "name": "stdout",
          "text": [
            "[<built-in method values of dict object at 0x7f590aefda40>, <built-in method values of dict object at 0x7f59127dcd80>]\n"
          ]
        }
      ]
    },
    {
      "cell_type": "code",
      "source": [
        "X = []\n",
        "for i in range(len(word_array)):\n",
        "  X_item = []\n",
        "  dict = word_array[i]\n",
        "  for key, value in dict.items:\n",
        "    X_item.append(value)\n",
        "  X.append(X_item)\n",
        "\n",
        "  "
      ],
      "metadata": {
        "colab": {
          "base_uri": "https://localhost:8080/",
          "height": 235
        },
        "id": "omzb9csAp8mX",
        "outputId": "e69e56c3-0dd9-4258-b8df-84bb214b4b2a"
      },
      "execution_count": 53,
      "outputs": [
        {
          "output_type": "error",
          "ename": "TypeError",
          "evalue": "ignored",
          "traceback": [
            "\u001b[0;31m---------------------------------------------------------------------------\u001b[0m",
            "\u001b[0;31mTypeError\u001b[0m                                 Traceback (most recent call last)",
            "\u001b[0;32m<ipython-input-53-a91d121d6e63>\u001b[0m in \u001b[0;36m<module>\u001b[0;34m\u001b[0m\n\u001b[1;32m      3\u001b[0m   \u001b[0mX_item\u001b[0m \u001b[0;34m=\u001b[0m \u001b[0;34m[\u001b[0m\u001b[0;34m]\u001b[0m\u001b[0;34m\u001b[0m\u001b[0;34m\u001b[0m\u001b[0m\n\u001b[1;32m      4\u001b[0m   \u001b[0mdict\u001b[0m \u001b[0;34m=\u001b[0m \u001b[0mword_array\u001b[0m\u001b[0;34m[\u001b[0m\u001b[0mi\u001b[0m\u001b[0;34m]\u001b[0m\u001b[0;34m\u001b[0m\u001b[0;34m\u001b[0m\u001b[0m\n\u001b[0;32m----> 5\u001b[0;31m   \u001b[0;32mfor\u001b[0m \u001b[0mkey\u001b[0m\u001b[0;34m,\u001b[0m \u001b[0mvalue\u001b[0m \u001b[0;32min\u001b[0m \u001b[0mdict\u001b[0m\u001b[0;34m.\u001b[0m\u001b[0mitems\u001b[0m\u001b[0;34m:\u001b[0m\u001b[0;34m\u001b[0m\u001b[0;34m\u001b[0m\u001b[0m\n\u001b[0m\u001b[1;32m      6\u001b[0m     \u001b[0mX_item\u001b[0m\u001b[0;34m.\u001b[0m\u001b[0mappend\u001b[0m\u001b[0;34m(\u001b[0m\u001b[0mvalue\u001b[0m\u001b[0;34m)\u001b[0m\u001b[0;34m\u001b[0m\u001b[0;34m\u001b[0m\u001b[0m\n\u001b[1;32m      7\u001b[0m   \u001b[0mX\u001b[0m\u001b[0;34m.\u001b[0m\u001b[0mappend\u001b[0m\u001b[0;34m(\u001b[0m\u001b[0mX_item\u001b[0m\u001b[0;34m)\u001b[0m\u001b[0;34m\u001b[0m\u001b[0;34m\u001b[0m\u001b[0m\n",
            "\u001b[0;31mTypeError\u001b[0m: 'builtin_function_or_method' object is not iterable"
          ]
        }
      ]
    },
    {
      "cell_type": "code",
      "execution_count": null,
      "metadata": {
        "id": "m5oVsQK6Pihn"
      },
      "outputs": [],
      "source": [
        "cv=CountVectorizer(max_features=2500,ngram_range=(1,3))\n",
        "X=cv.fit_transform(corpus).toarray()\n",
        "y=df['CATEGORY']"
      ]
    },
    {
      "cell_type": "code",
      "source": [
        "X"
      ],
      "metadata": {
        "colab": {
          "base_uri": "https://localhost:8080/"
        },
        "id": "gCL5TQB8lig2",
        "outputId": "f4e5bc51-c6cd-4c94-b462-a03e7e2358e0"
      },
      "execution_count": null,
      "outputs": [
        {
          "output_type": "execute_result",
          "data": {
            "text/plain": [
              "array([[0, 0, 0, ..., 0, 0, 0],\n",
              "       [0, 0, 0, ..., 0, 0, 0],\n",
              "       [0, 7, 0, ..., 0, 0, 0],\n",
              "       ...,\n",
              "       [0, 0, 0, ..., 0, 0, 0],\n",
              "       [1, 0, 0, ..., 0, 0, 0],\n",
              "       [0, 0, 0, ..., 0, 0, 0]])"
            ]
          },
          "metadata": {},
          "execution_count": 33
        }
      ]
    },
    {
      "cell_type": "code",
      "execution_count": null,
      "metadata": {
        "id": "Oh_fUeSNPrY9"
      },
      "outputs": [],
      "source": [
        "X_train,X_test,y_train,y_test=train_test_split(\n",
        "    X,y,test_size=0.20,random_state=1,stratify=y)"
      ]
    },
    {
      "cell_type": "code",
      "execution_count": null,
      "metadata": {
        "id": "w9U_GRA0PvQF"
      },
      "outputs": [],
      "source": [
        "tfid=TfidfVectorizer(ngram_range=(1,3),max_features=2500)\n",
        "X=tfid.fit_transform(corpus).toarray()\n",
        "X_train,X_test,y_train,y_test=train_test_split(X,y,test_size=0.20,random_state=1,stratify=y)"
      ]
    },
    {
      "cell_type": "code",
      "source": [
        "number_input_features = len(X_train[0])\n",
        "hidden_nodes_layer1 =  100\n",
        "hidden_nodes_layer2 = 200\n",
        "hidden_nodes_layer3 = 50"
      ],
      "metadata": {
        "id": "L061EwGjrdWv"
      },
      "execution_count": null,
      "outputs": []
    },
    {
      "cell_type": "code",
      "source": [
        "import tensorflow as tf"
      ],
      "metadata": {
        "id": "BKg6mF-HrzTP"
      },
      "execution_count": null,
      "outputs": []
    },
    {
      "cell_type": "code",
      "source": [
        "nn = tf.keras.models.Sequential()\n",
        "\n",
        "# First hidden layer\n",
        "nn.add(tf.keras.layers.Dense(units=hidden_nodes_layer1, activation=\"relu\", input_dim=number_input_features))\n",
        "\n",
        "# Second hidden layer\n",
        "nn.add(tf.keras.layers.Dense(units=hidden_nodes_layer2, activation=\"sigmoid\"))\n",
        "\n",
        "# Third hidden layer\n",
        "nn.add(tf.keras.layers.Dense(units=hidden_nodes_layer3, activation=\"sigmoid\"))\n",
        "\n",
        "# Output layer\n",
        "nn.add(tf.keras.layers.Dense(units=1, activation=\"sigmoid\"))\n",
        "\n",
        "# Check the structure of the model\n",
        "nn.summary()"
      ],
      "metadata": {
        "colab": {
          "base_uri": "https://localhost:8080/"
        },
        "id": "umzFqFNcsC4D",
        "outputId": "0d90ea4d-9b5a-4b20-f0e4-9413f8e6bb6a"
      },
      "execution_count": null,
      "outputs": [
        {
          "output_type": "stream",
          "name": "stdout",
          "text": [
            "Model: \"sequential_1\"\n",
            "_________________________________________________________________\n",
            " Layer (type)                Output Shape              Param #   \n",
            "=================================================================\n",
            " dense_4 (Dense)             (None, 100)               250100    \n",
            "                                                                 \n",
            " dense_5 (Dense)             (None, 200)               20200     \n",
            "                                                                 \n",
            " dense_6 (Dense)             (None, 50)                10050     \n",
            "                                                                 \n",
            " dense_7 (Dense)             (None, 1)                 51        \n",
            "                                                                 \n",
            "=================================================================\n",
            "Total params: 280,401\n",
            "Trainable params: 280,401\n",
            "Non-trainable params: 0\n",
            "_________________________________________________________________\n"
          ]
        }
      ]
    },
    {
      "cell_type": "code",
      "source": [
        "nn.compile(loss=\"binary_crossentropy\", optimizer=\"adam\", metrics=[\"accuracy\"])"
      ],
      "metadata": {
        "id": "Isp4JXAFsVqp"
      },
      "execution_count": null,
      "outputs": []
    },
    {
      "cell_type": "code",
      "source": [
        "fit_model = nn.fit(X_train, y_train, epochs=50)"
      ],
      "metadata": {
        "colab": {
          "base_uri": "https://localhost:8080/"
        },
        "id": "Tbz00EDescrM",
        "outputId": "c3a4cafa-048a-439a-98e9-9fed86f687bc"
      },
      "execution_count": null,
      "outputs": [
        {
          "output_type": "stream",
          "name": "stdout",
          "text": [
            "Epoch 1/50\n",
            "145/145 [==============================] - 2s 6ms/step - loss: 0.2585 - accuracy: 0.8919\n",
            "Epoch 2/50\n",
            "145/145 [==============================] - 1s 6ms/step - loss: 0.0290 - accuracy: 0.9931\n",
            "Epoch 3/50\n",
            "145/145 [==============================] - 1s 8ms/step - loss: 0.0131 - accuracy: 0.9978\n",
            "Epoch 4/50\n",
            "145/145 [==============================] - 1s 7ms/step - loss: 0.0079 - accuracy: 0.9989\n",
            "Epoch 5/50\n",
            "145/145 [==============================] - 1s 6ms/step - loss: 0.0044 - accuracy: 0.9996\n",
            "Epoch 6/50\n",
            "145/145 [==============================] - 1s 6ms/step - loss: 0.0024 - accuracy: 0.9998\n",
            "Epoch 7/50\n",
            "145/145 [==============================] - 1s 6ms/step - loss: 0.0015 - accuracy: 1.0000\n",
            "Epoch 8/50\n",
            "145/145 [==============================] - 1s 6ms/step - loss: 0.0012 - accuracy: 1.0000\n",
            "Epoch 9/50\n",
            "145/145 [==============================] - 1s 6ms/step - loss: 9.1811e-04 - accuracy: 1.0000\n",
            "Epoch 10/50\n",
            "145/145 [==============================] - 1s 6ms/step - loss: 7.0690e-04 - accuracy: 1.0000\n",
            "Epoch 11/50\n",
            "145/145 [==============================] - 1s 6ms/step - loss: 5.7797e-04 - accuracy: 1.0000\n",
            "Epoch 12/50\n",
            "145/145 [==============================] - 1s 6ms/step - loss: 4.8852e-04 - accuracy: 1.0000\n",
            "Epoch 13/50\n",
            "145/145 [==============================] - 1s 8ms/step - loss: 4.1761e-04 - accuracy: 1.0000\n",
            "Epoch 14/50\n",
            "145/145 [==============================] - 1s 6ms/step - loss: 3.5940e-04 - accuracy: 1.0000\n",
            "Epoch 15/50\n",
            "145/145 [==============================] - 1s 6ms/step - loss: 3.1388e-04 - accuracy: 1.0000\n",
            "Epoch 16/50\n",
            "145/145 [==============================] - 1s 8ms/step - loss: 2.7521e-04 - accuracy: 1.0000\n",
            "Epoch 17/50\n",
            "145/145 [==============================] - 1s 8ms/step - loss: 2.4312e-04 - accuracy: 1.0000\n",
            "Epoch 18/50\n",
            "145/145 [==============================] - 1s 6ms/step - loss: 2.1566e-04 - accuracy: 1.0000\n",
            "Epoch 19/50\n",
            "145/145 [==============================] - 1s 6ms/step - loss: 1.9244e-04 - accuracy: 1.0000\n",
            "Epoch 20/50\n",
            "145/145 [==============================] - 1s 6ms/step - loss: 1.7212e-04 - accuracy: 1.0000\n",
            "Epoch 21/50\n",
            "145/145 [==============================] - 1s 6ms/step - loss: 1.5483e-04 - accuracy: 1.0000\n",
            "Epoch 22/50\n",
            "145/145 [==============================] - 1s 6ms/step - loss: 1.3970e-04 - accuracy: 1.0000\n",
            "Epoch 23/50\n",
            "145/145 [==============================] - 1s 6ms/step - loss: 1.2614e-04 - accuracy: 1.0000\n",
            "Epoch 24/50\n",
            "145/145 [==============================] - 1s 6ms/step - loss: 1.1448e-04 - accuracy: 1.0000\n",
            "Epoch 25/50\n",
            "145/145 [==============================] - 1s 6ms/step - loss: 1.0402e-04 - accuracy: 1.0000\n",
            "Epoch 26/50\n",
            "145/145 [==============================] - 1s 6ms/step - loss: 9.4651e-05 - accuracy: 1.0000\n",
            "Epoch 27/50\n",
            "145/145 [==============================] - 1s 5ms/step - loss: 8.6347e-05 - accuracy: 1.0000\n",
            "Epoch 28/50\n",
            "145/145 [==============================] - 1s 6ms/step - loss: 7.8824e-05 - accuracy: 1.0000\n",
            "Epoch 29/50\n",
            "145/145 [==============================] - 1s 7ms/step - loss: 7.2141e-05 - accuracy: 1.0000\n",
            "Epoch 30/50\n",
            "145/145 [==============================] - 1s 8ms/step - loss: 6.6045e-05 - accuracy: 1.0000\n",
            "Epoch 31/50\n",
            "145/145 [==============================] - 1s 7ms/step - loss: 6.0640e-05 - accuracy: 1.0000\n",
            "Epoch 32/50\n",
            "145/145 [==============================] - 1s 6ms/step - loss: 5.5663e-05 - accuracy: 1.0000\n",
            "Epoch 33/50\n",
            "145/145 [==============================] - 1s 6ms/step - loss: 5.1188e-05 - accuracy: 1.0000\n",
            "Epoch 34/50\n",
            "145/145 [==============================] - 1s 6ms/step - loss: 4.7064e-05 - accuracy: 1.0000\n",
            "Epoch 35/50\n",
            "145/145 [==============================] - 1s 6ms/step - loss: 4.3354e-05 - accuracy: 1.0000\n",
            "Epoch 36/50\n",
            "145/145 [==============================] - 1s 6ms/step - loss: 3.9973e-05 - accuracy: 1.0000\n",
            "Epoch 37/50\n",
            "145/145 [==============================] - 1s 6ms/step - loss: 3.6853e-05 - accuracy: 1.0000\n",
            "Epoch 38/50\n",
            "145/145 [==============================] - 1s 6ms/step - loss: 3.4017e-05 - accuracy: 1.0000\n",
            "Epoch 39/50\n",
            "145/145 [==============================] - 1s 6ms/step - loss: 3.1423e-05 - accuracy: 1.0000\n",
            "Epoch 40/50\n",
            "145/145 [==============================] - 1s 6ms/step - loss: 2.9035e-05 - accuracy: 1.0000\n",
            "Epoch 41/50\n",
            "145/145 [==============================] - 1s 6ms/step - loss: 2.6831e-05 - accuracy: 1.0000\n",
            "Epoch 42/50\n",
            "145/145 [==============================] - 1s 6ms/step - loss: 2.4820e-05 - accuracy: 1.0000\n",
            "Epoch 43/50\n",
            "145/145 [==============================] - 1s 7ms/step - loss: 2.2974e-05 - accuracy: 1.0000\n",
            "Epoch 44/50\n",
            "145/145 [==============================] - 1s 7ms/step - loss: 2.1263e-05 - accuracy: 1.0000\n",
            "Epoch 45/50\n",
            "145/145 [==============================] - 1s 7ms/step - loss: 1.9688e-05 - accuracy: 1.0000\n",
            "Epoch 46/50\n",
            "145/145 [==============================] - 1s 6ms/step - loss: 1.8233e-05 - accuracy: 1.0000\n",
            "Epoch 47/50\n",
            "145/145 [==============================] - 1s 6ms/step - loss: 1.6906e-05 - accuracy: 1.0000\n",
            "Epoch 48/50\n",
            "145/145 [==============================] - 1s 5ms/step - loss: 1.5668e-05 - accuracy: 1.0000\n",
            "Epoch 49/50\n",
            "145/145 [==============================] - 1s 6ms/step - loss: 1.4522e-05 - accuracy: 1.0000\n",
            "Epoch 50/50\n",
            "145/145 [==============================] - 1s 6ms/step - loss: 1.3467e-05 - accuracy: 1.0000\n"
          ]
        }
      ]
    },
    {
      "cell_type": "code",
      "source": [
        "model_loss, model_accuracy = nn.evaluate(X_test,y_test,verbose=2)\n",
        "print(f\"Loss: {model_loss}, Accuracy: {model_accuracy}\")"
      ],
      "metadata": {
        "colab": {
          "base_uri": "https://localhost:8080/"
        },
        "id": "Fg17GKa9s8tH",
        "outputId": "ffb22026-eb60-4ad0-c55e-2d3841338eb1"
      },
      "execution_count": null,
      "outputs": [
        {
          "output_type": "stream",
          "name": "stdout",
          "text": [
            "37/37 - 0s - loss: 0.0724 - accuracy: 0.9905 - 420ms/epoch - 11ms/step\n",
            "Loss: 0.07240498811006546, Accuracy: 0.990517258644104\n"
          ]
        }
      ]
    },
    {
      "cell_type": "code",
      "source": [
        "nn.save(\"optimization1.h5\")"
      ],
      "metadata": {
        "id": "eMeMqVG9tAWR"
      },
      "execution_count": null,
      "outputs": []
    },
    {
      "cell_type": "code",
      "source": [
        "from tensorflow.keras.models import load_model\n",
        "model = load_model(\"optimization1.h5\")"
      ],
      "metadata": {
        "id": "ozLv8dC7uerd"
      },
      "execution_count": null,
      "outputs": []
    },
    {
      "cell_type": "code",
      "source": [
        "print('Predicting...')\n",
        "message = [\"You won 10000 dollars, please provide your account details,So that we can transfer the money\"]\n",
        "message_vector = tfid.transform(message)\n",
        "indices = tf.placeholder(tf.int64)\n",
        "shape = tf.placeholder(tf.int64)\n",
        "values = tf.placeholder(tf.float64)\n",
        "sparse_tensor = tf.SparseTensor(indices, shape, values)\n",
        "category = model.predict()\n",
        "category = model.predict()\n",
        "print(\"The message is\", \"spam\" if category == 1 else \"not spam\")"
      ],
      "metadata": {
        "colab": {
          "base_uri": "https://localhost:8080/",
          "height": 252
        },
        "id": "h-hdTbDIuxXl",
        "outputId": "efcd6250-988c-4239-8fd5-99bc4427be39"
      },
      "execution_count": null,
      "outputs": [
        {
          "output_type": "stream",
          "name": "stdout",
          "text": [
            "Predicting...\n"
          ]
        },
        {
          "output_type": "error",
          "ename": "AttributeError",
          "evalue": "ignored",
          "traceback": [
            "\u001b[0;31m---------------------------------------------------------------------------\u001b[0m",
            "\u001b[0;31mAttributeError\u001b[0m                            Traceback (most recent call last)",
            "\u001b[0;32m<ipython-input-55-1c02205ff98c>\u001b[0m in \u001b[0;36m<module>\u001b[0;34m\u001b[0m\n\u001b[1;32m      3\u001b[0m \u001b[0mmessage_vector\u001b[0m \u001b[0;34m=\u001b[0m \u001b[0mtfid\u001b[0m\u001b[0;34m.\u001b[0m\u001b[0mtransform\u001b[0m\u001b[0;34m(\u001b[0m\u001b[0mmessage\u001b[0m\u001b[0;34m)\u001b[0m\u001b[0;34m\u001b[0m\u001b[0;34m\u001b[0m\u001b[0m\n\u001b[1;32m      4\u001b[0m \u001b[0;34m\u001b[0m\u001b[0m\n\u001b[0;32m----> 5\u001b[0;31m \u001b[0msparse_place\u001b[0m \u001b[0;34m=\u001b[0m \u001b[0mtf\u001b[0m\u001b[0;34m.\u001b[0m\u001b[0msparse_placeholder\u001b[0m\u001b[0;34m(\u001b[0m\u001b[0mtf\u001b[0m\u001b[0;34m.\u001b[0m\u001b[0mfloat64\u001b[0m\u001b[0;34m)\u001b[0m\u001b[0;34m\u001b[0m\u001b[0;34m\u001b[0m\u001b[0m\n\u001b[0m\u001b[1;32m      6\u001b[0m \u001b[0mmul_result\u001b[0m \u001b[0;34m=\u001b[0m \u001b[0mtf\u001b[0m\u001b[0;34m.\u001b[0m\u001b[0msparse_tensor_dense_matmul\u001b[0m\u001b[0;34m(\u001b[0m\u001b[0msparse_place\u001b[0m\u001b[0;34m,\u001b[0m \u001b[0msome_dense_tensor\u001b[0m\u001b[0;34m)\u001b[0m\u001b[0;34m\u001b[0m\u001b[0;34m\u001b[0m\u001b[0m\n\u001b[1;32m      7\u001b[0m \u001b[0mcategory\u001b[0m \u001b[0;34m=\u001b[0m \u001b[0mmodel\u001b[0m\u001b[0;34m.\u001b[0m\u001b[0mpredict\u001b[0m\u001b[0;34m(\u001b[0m\u001b[0mmessage_reorder\u001b[0m\u001b[0;34m)\u001b[0m\u001b[0;34m\u001b[0m\u001b[0;34m\u001b[0m\u001b[0m\n",
            "\u001b[0;31mAttributeError\u001b[0m: module 'tensorflow' has no attribute 'sparse_placeholder'"
          ]
        }
      ]
    },
    {
      "cell_type": "code",
      "execution_count": null,
      "metadata": {
        "id": "xQogrc6kP-_t"
      },
      "outputs": [],
      "source": [
        "from sklearn.naive_bayes import MultinomialNB\n",
        "model=MultinomialNB()"
      ]
    },
    {
      "cell_type": "code",
      "execution_count": null,
      "metadata": {
        "colab": {
          "base_uri": "https://localhost:8080/",
          "height": 74
        },
        "id": "rm8ejMpQQCH9",
        "outputId": "7d768531-be80-435e-d908-40bc0a28a15a"
      },
      "outputs": [
        {
          "data": {
            "text/html": [
              "<style>#sk-container-id-1 {color: black;background-color: white;}#sk-container-id-1 pre{padding: 0;}#sk-container-id-1 div.sk-toggleable {background-color: white;}#sk-container-id-1 label.sk-toggleable__label {cursor: pointer;display: block;width: 100%;margin-bottom: 0;padding: 0.3em;box-sizing: border-box;text-align: center;}#sk-container-id-1 label.sk-toggleable__label-arrow:before {content: \"▸\";float: left;margin-right: 0.25em;color: #696969;}#sk-container-id-1 label.sk-toggleable__label-arrow:hover:before {color: black;}#sk-container-id-1 div.sk-estimator:hover label.sk-toggleable__label-arrow:before {color: black;}#sk-container-id-1 div.sk-toggleable__content {max-height: 0;max-width: 0;overflow: hidden;text-align: left;background-color: #f0f8ff;}#sk-container-id-1 div.sk-toggleable__content pre {margin: 0.2em;color: black;border-radius: 0.25em;background-color: #f0f8ff;}#sk-container-id-1 input.sk-toggleable__control:checked~div.sk-toggleable__content {max-height: 200px;max-width: 100%;overflow: auto;}#sk-container-id-1 input.sk-toggleable__control:checked~label.sk-toggleable__label-arrow:before {content: \"▾\";}#sk-container-id-1 div.sk-estimator input.sk-toggleable__control:checked~label.sk-toggleable__label {background-color: #d4ebff;}#sk-container-id-1 div.sk-label input.sk-toggleable__control:checked~label.sk-toggleable__label {background-color: #d4ebff;}#sk-container-id-1 input.sk-hidden--visually {border: 0;clip: rect(1px 1px 1px 1px);clip: rect(1px, 1px, 1px, 1px);height: 1px;margin: -1px;overflow: hidden;padding: 0;position: absolute;width: 1px;}#sk-container-id-1 div.sk-estimator {font-family: monospace;background-color: #f0f8ff;border: 1px dotted black;border-radius: 0.25em;box-sizing: border-box;margin-bottom: 0.5em;}#sk-container-id-1 div.sk-estimator:hover {background-color: #d4ebff;}#sk-container-id-1 div.sk-parallel-item::after {content: \"\";width: 100%;border-bottom: 1px solid gray;flex-grow: 1;}#sk-container-id-1 div.sk-label:hover label.sk-toggleable__label {background-color: #d4ebff;}#sk-container-id-1 div.sk-serial::before {content: \"\";position: absolute;border-left: 1px solid gray;box-sizing: border-box;top: 0;bottom: 0;left: 50%;z-index: 0;}#sk-container-id-1 div.sk-serial {display: flex;flex-direction: column;align-items: center;background-color: white;padding-right: 0.2em;padding-left: 0.2em;position: relative;}#sk-container-id-1 div.sk-item {position: relative;z-index: 1;}#sk-container-id-1 div.sk-parallel {display: flex;align-items: stretch;justify-content: center;background-color: white;position: relative;}#sk-container-id-1 div.sk-item::before, #sk-container-id-1 div.sk-parallel-item::before {content: \"\";position: absolute;border-left: 1px solid gray;box-sizing: border-box;top: 0;bottom: 0;left: 50%;z-index: -1;}#sk-container-id-1 div.sk-parallel-item {display: flex;flex-direction: column;z-index: 1;position: relative;background-color: white;}#sk-container-id-1 div.sk-parallel-item:first-child::after {align-self: flex-end;width: 50%;}#sk-container-id-1 div.sk-parallel-item:last-child::after {align-self: flex-start;width: 50%;}#sk-container-id-1 div.sk-parallel-item:only-child::after {width: 0;}#sk-container-id-1 div.sk-dashed-wrapped {border: 1px dashed gray;margin: 0 0.4em 0.5em 0.4em;box-sizing: border-box;padding-bottom: 0.4em;background-color: white;}#sk-container-id-1 div.sk-label label {font-family: monospace;font-weight: bold;display: inline-block;line-height: 1.2em;}#sk-container-id-1 div.sk-label-container {text-align: center;}#sk-container-id-1 div.sk-container {/* jupyter's `normalize.less` sets `[hidden] { display: none; }` but bootstrap.min.css set `[hidden] { display: none !important; }` so we also need the `!important` here to be able to override the default hidden behavior on the sphinx rendered scikit-learn.org. See: https://github.com/scikit-learn/scikit-learn/issues/21755 */display: inline-block !important;position: relative;}#sk-container-id-1 div.sk-text-repr-fallback {display: none;}</style><div id=\"sk-container-id-1\" class=\"sk-top-container\"><div class=\"sk-text-repr-fallback\"><pre>MultinomialNB()</pre><b>In a Jupyter environment, please rerun this cell to show the HTML representation or trust the notebook. <br />On GitHub, the HTML representation is unable to render, please try loading this page with nbviewer.org.</b></div><div class=\"sk-container\" hidden><div class=\"sk-item\"><div class=\"sk-estimator sk-toggleable\"><input class=\"sk-toggleable__control sk-hidden--visually\" id=\"sk-estimator-id-1\" type=\"checkbox\" checked><label for=\"sk-estimator-id-1\" class=\"sk-toggleable__label sk-toggleable__label-arrow\">MultinomialNB</label><div class=\"sk-toggleable__content\"><pre>MultinomialNB()</pre></div></div></div></div></div>"
            ],
            "text/plain": [
              "MultinomialNB()"
            ]
          },
          "execution_count": 15,
          "metadata": {},
          "output_type": "execute_result"
        }
      ],
      "source": [
        "model.fit(x_train,y_train)"
      ]
    },
    {
      "cell_type": "code",
      "execution_count": null,
      "metadata": {
        "id": "MfiChCvBQEUV"
      },
      "outputs": [],
      "source": [
        "train_pred=model.predict(x_train)\n",
        "test_pred=model.predict(x_test)"
      ]
    },
    {
      "cell_type": "code",
      "execution_count": null,
      "metadata": {
        "colab": {
          "base_uri": "https://localhost:8080/"
        },
        "id": "W0-vNrntQGuf",
        "outputId": "419f05b0-9225-44b2-f96f-eb1d028e2783"
      },
      "outputs": [
        {
          "name": "stdout",
          "output_type": "stream",
          "text": [
            "              precision    recall  f1-score   support\n",
            "\n",
            "           0       0.99      0.95      0.97      3258\n",
            "           1       0.89      0.98      0.94      1378\n",
            "\n",
            "    accuracy                           0.96      4636\n",
            "   macro avg       0.94      0.97      0.95      4636\n",
            "weighted avg       0.96      0.96      0.96      4636\n",
            "\n",
            "              precision    recall  f1-score   support\n",
            "\n",
            "           0       0.99      0.96      0.97       812\n",
            "           1       0.91      0.99      0.94       348\n",
            "\n",
            "    accuracy                           0.96      1160\n",
            "   macro avg       0.95      0.97      0.96      1160\n",
            "weighted avg       0.97      0.96      0.97      1160\n",
            "\n"
          ]
        }
      ],
      "source": [
        "print(classification_report(train_pred,y_train))\n",
        "print(classification_report(test_pred,y_test))"
      ]
    },
    {
      "cell_type": "code",
      "execution_count": null,
      "metadata": {
        "colab": {
          "base_uri": "https://localhost:8080/"
        },
        "id": "PLINl2lBQWF9",
        "outputId": "3dd3a32a-27cd-48ea-aaa1-f1728e01fd79"
      },
      "outputs": [
        {
          "name": "stdout",
          "output_type": "stream",
          "text": [
            "The message is spam\n"
          ]
        }
      ],
      "source": [
        "message = [\"You won 10000 dollars, please provide your account details,So that we can transfer the money\"]\n",
        "message_vector = tf.transform(message)\n",
        "category = model.predict(message_vector)\n",
        "print(\"The message is\", \"spam\" if category == 1 else \"not spam\")"
      ]
    }
  ],
  "metadata": {
    "colab": {
      "provenance": []
    },
    "kernelspec": {
      "display_name": "Python 3",
      "name": "python3"
    },
    "language_info": {
      "name": "python"
    }
  },
  "nbformat": 4,
  "nbformat_minor": 0
}