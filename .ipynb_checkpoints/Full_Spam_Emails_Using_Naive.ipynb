{
  "nbformat": 4,
  "nbformat_minor": 0,
  "metadata": {
    "colab": {
      "provenance": []
    },
    "kernelspec": {
      "name": "python3",
      "display_name": "Python 3"
    },
    "language_info": {
      "name": "python"
    }
  },
  "cells": [
    {
      "cell_type": "markdown",
      "source": [
        "**Import Dependencies**"
      ],
      "metadata": {
        "id": "iaHt-fS1Owu0"
      }
    },
    {
      "cell_type": "code",
      "source": [
        "import os\n",
        "import numpy as np\n",
        "import pandas as pd\n",
        "import matplotlib as plt\n",
        "import sklearn as skl\n",
        "import tensorflow as tf"
      ],
      "metadata": {
        "id": "2rQ1sZYbMHIQ"
      },
      "execution_count": 1,
      "outputs": []
    },
    {
      "cell_type": "code",
      "execution_count": 2,
      "metadata": {
        "colab": {
          "base_uri": "https://localhost:8080/"
        },
        "id": "4eCDYeS7L9cZ",
        "outputId": "62e0ebe1-362c-4886-949b-c86402990b2f"
      },
      "outputs": [
        {
          "output_type": "stream",
          "name": "stdout",
          "text": [
            "\r0% [Working]\r            \rIgn:1 https://developer.download.nvidia.com/compute/machine-learning/repos/ubuntu2004/x86_64  InRelease\n",
            "\r0% [Connecting to archive.ubuntu.com (91.189.91.38)] [Connecting to security.ub\r                                                                               \rGet:2 https://cloud.r-project.org/bin/linux/ubuntu focal-cran40/ InRelease [3,622 B]\n",
            "\r0% [Connecting to archive.ubuntu.com (91.189.91.38)] [Connecting to security.ub\r                                                                               \rHit:3 https://developer.download.nvidia.com/compute/cuda/repos/ubuntu2004/x86_64  InRelease\n",
            "\r0% [Connecting to archive.ubuntu.com (91.189.91.38)] [Connecting to security.ub\r0% [Waiting for headers] [Waiting for headers] [Connecting to ppa.launchpad.net\r                                                                               \rHit:4 https://developer.download.nvidia.com/compute/machine-learning/repos/ubuntu2004/x86_64  Release\n",
            "\r0% [Waiting for headers] [Waiting for headers] [Connecting to ppa.launchpad.net\r                                                                               \rHit:5 http://archive.ubuntu.com/ubuntu focal InRelease\n",
            "\r                                                                               \r0% [Waiting for headers] [Waiting for headers] [Waiting for headers]\r                                                                    \rGet:6 http://security.ubuntu.com/ubuntu focal-security InRelease [114 kB]\n",
            "\r0% [Waiting for headers] [6 InRelease 14.2 kB/114 kB 12%] [Waiting for headers]\r                                                                               \rGet:7 http://archive.ubuntu.com/ubuntu focal-updates InRelease [114 kB]\n",
            "Hit:8 http://ppa.launchpad.net/c2d4u.team/c2d4u4.0+/ubuntu focal InRelease\n",
            "Get:10 http://archive.ubuntu.com/ubuntu focal-backports InRelease [108 kB]\n",
            "Hit:11 http://ppa.launchpad.net/cran/libgit2/ubuntu focal InRelease\n",
            "Hit:12 http://ppa.launchpad.net/deadsnakes/ppa/ubuntu focal InRelease\n",
            "Get:13 http://security.ubuntu.com/ubuntu focal-security/universe amd64 Packages [1,012 kB]\n",
            "Get:14 http://archive.ubuntu.com/ubuntu focal-updates/restricted amd64 Packages [2,134 kB]\n",
            "Hit:15 http://ppa.launchpad.net/graphics-drivers/ppa/ubuntu focal InRelease\n",
            "Get:16 http://security.ubuntu.com/ubuntu focal-security/restricted amd64 Packages [1,998 kB]\n",
            "Hit:17 http://ppa.launchpad.net/ubuntugis/ppa/ubuntu focal InRelease\n",
            "Get:18 http://security.ubuntu.com/ubuntu focal-security/main amd64 Packages [2,535 kB]\n",
            "Get:19 http://archive.ubuntu.com/ubuntu focal-updates/main amd64 Packages [3,012 kB]\n",
            "Get:20 http://archive.ubuntu.com/ubuntu focal-updates/multiverse amd64 Packages [31.3 kB]\n",
            "Get:21 http://archive.ubuntu.com/ubuntu focal-updates/universe amd64 Packages [1,308 kB]\n",
            "Fetched 12.4 MB in 2s (5,484 kB/s)\n",
            "Reading package lists... Done\n"
          ]
        }
      ],
      "source": [
        "spark_version = 'spark-3.2.3'\n",
        "os.environ['SPARK_VERSION']=spark_version\n",
        "\n",
        "!apt-get update\n",
        "!apt-get install openjdk-8-jdk-headless -qq > /dev/null\n",
        "!wget -q http://www.apache.org/dist/spark/$SPARK_VERSION/$SPARK_VERSION-bin-hadoop2.7.tgz\n",
        "!tar xf $SPARK_VERSION-bin-hadoop2.7.tgz\n",
        "!pip install -q findspark\n",
        "\n",
        "os.environ[\"JAVA_HOME\"] = \"/usr/lib/jvm/java-8-openjdk-amd64\"\n",
        "os.environ[\"SPARK_HOME\"] = f\"/content/{spark_version}-bin-hadoop2.7\"\n",
        "\n",
        "import findspark\n",
        "findspark.init()"
      ]
    },
    {
      "cell_type": "code",
      "source": [
        "from pyspark.sql import SparkSession\n",
        "spark = SparkSession.builder.appName(\"NaiveBayes\").getOrCreate()"
      ],
      "metadata": {
        "id": "eT-qWAMjMvrB"
      },
      "execution_count": 3,
      "outputs": []
    },
    {
      "cell_type": "code",
      "source": [
        "from pyspark import SparkFiles\n",
        "url =\"Resources/spam_emails.csv\"\n",
        "spark.sparkContext.addFile(url)\n",
        "df = spark.read.csv(SparkFiles.get(\"spam_emails.csv\"), sep=\",\", header=True)\n",
        "\n",
        "df.show()"
      ],
      "metadata": {
        "colab": {
          "base_uri": "https://localhost:8080/"
        },
        "id": "DWUhJNZCM4fy",
        "outputId": "c67aee8c-2dcf-4f35-eb0a-9d9a034c574c"
      },
      "execution_count": 4,
      "outputs": [
        {
          "output_type": "stream",
          "name": "stdout",
          "text": [
            "+--------+--------------------+\n",
            "|Category|             Message|\n",
            "+--------+--------------------+\n",
            "|     ham|Go until jurong p...|\n",
            "|     ham|Ok lar... Joking ...|\n",
            "|    spam|Free entry in 2 a...|\n",
            "|     ham|U dun say so earl...|\n",
            "|     ham|Nah I don't think...|\n",
            "|    spam|FreeMsg Hey there...|\n",
            "|     ham|Even my brother i...|\n",
            "|     ham|As per your reque...|\n",
            "|    spam|WINNER!! As a val...|\n",
            "|    spam|Had your mobile 1...|\n",
            "|     ham|I'm gonna be home...|\n",
            "|    spam|SIX chances to wi...|\n",
            "|    spam|URGENT! You have ...|\n",
            "|     ham|I've been searchi...|\n",
            "|     ham|I HAVE A DATE ON ...|\n",
            "|    spam|XXXMobileMovieClu...|\n",
            "|     ham|Oh k...i'm watchi...|\n",
            "|     ham|Eh u remember how...|\n",
            "|     ham|Fine if thats th...|\n",
            "|    spam|England v Macedon...|\n",
            "+--------+--------------------+\n",
            "only showing top 20 rows\n",
            "\n"
          ]
        }
      ]
    },
    {
      "cell_type": "code",
      "source": [
        "from pyspark.sql.functions import length\n",
        "\n",
        "data_df = df.withColumn('length', length(df['Message']))\n",
        "data_df.show()"
      ],
      "metadata": {
        "colab": {
          "base_uri": "https://localhost:8080/"
        },
        "id": "xqibIR7rNCQH",
        "outputId": "ae916667-a572-4eb9-d2fa-bd61bc3b1144"
      },
      "execution_count": 5,
      "outputs": [
        {
          "output_type": "stream",
          "name": "stdout",
          "text": [
            "+--------+--------------------+------+\n",
            "|Category|             Message|length|\n",
            "+--------+--------------------+------+\n",
            "|     ham|Go until jurong p...|   111|\n",
            "|     ham|Ok lar... Joking ...|    29|\n",
            "|    spam|Free entry in 2 a...|   155|\n",
            "|     ham|U dun say so earl...|    49|\n",
            "|     ham|Nah I don't think...|    61|\n",
            "|    spam|FreeMsg Hey there...|   147|\n",
            "|     ham|Even my brother i...|    77|\n",
            "|     ham|As per your reque...|   160|\n",
            "|    spam|WINNER!! As a val...|   157|\n",
            "|    spam|Had your mobile 1...|   154|\n",
            "|     ham|I'm gonna be home...|   109|\n",
            "|    spam|SIX chances to wi...|   136|\n",
            "|    spam|URGENT! You have ...|   155|\n",
            "|     ham|I've been searchi...|   196|\n",
            "|     ham|I HAVE A DATE ON ...|    35|\n",
            "|    spam|XXXMobileMovieClu...|   149|\n",
            "|     ham|Oh k...i'm watchi...|    26|\n",
            "|     ham|Eh u remember how...|    81|\n",
            "|     ham|Fine if thats th...|    56|\n",
            "|    spam|England v Macedon...|   155|\n",
            "+--------+--------------------+------+\n",
            "only showing top 20 rows\n",
            "\n"
          ]
        }
      ]
    },
    {
      "cell_type": "markdown",
      "source": [
        "**Cleaning the Data/Adding Features**"
      ],
      "metadata": {
        "id": "yWhh-5dZPP0C"
      }
    },
    {
      "cell_type": "code",
      "source": [
        "from pyspark.ml.feature import Tokenizer, StopWordsRemover, HashingTF, IDF, StringIndexer\n",
        "\n",
        "pos_neg_to_num = StringIndexer(inputCol='Category',outputCol='label')\n",
        "tokenizer = Tokenizer(inputCol=\"Message\", outputCol=\"token_text\")\n",
        "stopremove = StopWordsRemover(inputCol='token_text',outputCol='stop_tokens')\n",
        "hashingTF = HashingTF(inputCol=\"stop_tokens\", outputCol='hash_token')\n",
        "idf = IDF(inputCol='hash_token', outputCol='idf_token')"
      ],
      "metadata": {
        "id": "cLavUDKeNGpv"
      },
      "execution_count": 14,
      "outputs": []
    },
    {
      "cell_type": "code",
      "source": [
        "from pyspark.ml.feature import VectorAssembler\n",
        "from pyspark.ml.linalg import Vector\n",
        "\n",
        "clean_up = VectorAssembler(inputCols=['idf_token', 'length'], outputCol='features')"
      ],
      "metadata": {
        "id": "IIRvBZPDNIl-"
      },
      "execution_count": 15,
      "outputs": []
    },
    {
      "cell_type": "code",
      "source": [
        "from pyspark.ml import Pipeline\n",
        "data_prep_pipeline = Pipeline(stages=[pos_neg_to_num, tokenizer, stopremove, hashingTF, idf, clean_up])"
      ],
      "metadata": {
        "id": "bfgxGzUqNNR_"
      },
      "execution_count": 16,
      "outputs": []
    },
    {
      "cell_type": "code",
      "source": [
        "cleaner = data_prep_pipeline.fit(data_df)\n",
        "cleaned = cleaner.transform(data_df)"
      ],
      "metadata": {
        "id": "yri1wrhoNPXw"
      },
      "execution_count": 17,
      "outputs": []
    },
    {
      "cell_type": "code",
      "source": [
        "cleaned.select(['label', 'features']).show()"
      ],
      "metadata": {
        "colab": {
          "base_uri": "https://localhost:8080/"
        },
        "id": "RcHUZUtuNQw-",
        "outputId": "070f9829-a654-4fd5-c6e3-151bff7d0043"
      },
      "execution_count": 18,
      "outputs": [
        {
          "output_type": "stream",
          "name": "stdout",
          "text": [
            "+-----+--------------------+\n",
            "|label|            features|\n",
            "+-----+--------------------+\n",
            "|  0.0|(262145,[38555,52...|\n",
            "|  0.0|(262145,[51783,15...|\n",
            "|  1.0|(262145,[9443,122...|\n",
            "|  0.0|(262145,[2306,332...|\n",
            "|  0.0|(262145,[25964,64...|\n",
            "|  1.0|(262145,[19835,23...|\n",
            "|  0.0|(262145,[103497,1...|\n",
            "|  0.0|(262145,[12650,27...|\n",
            "|  1.0|(262145,[4314,232...|\n",
            "|  1.0|(262145,[1546,219...|\n",
            "|  0.0|(262145,[12716,17...|\n",
            "|  1.0|(262145,[7415,161...|\n",
            "|  1.0|(262145,[23209,35...|\n",
            "|  0.0|(262145,[15585,41...|\n",
            "|  0.0|(262145,[39504,13...|\n",
            "|  1.0|(262145,[26364,44...|\n",
            "|  0.0|(262145,[18184,22...|\n",
            "|  0.0|(262145,[12524,16...|\n",
            "|  0.0|(262145,[37132,51...|\n",
            "|  1.0|(262145,[16168,29...|\n",
            "+-----+--------------------+\n",
            "only showing top 20 rows\n",
            "\n"
          ]
        }
      ]
    },
    {
      "cell_type": "code",
      "source": [
        "from pyspark.ml.classification import NaiveBayes\n",
        "training, testing = cleaned.randomSplit([0.7, 0.3])\n",
        "\n",
        "nb = NaiveBayes()\n",
        "predictor = nb.fit(training)"
      ],
      "metadata": {
        "id": "PH0Lij56OTqu"
      },
      "execution_count": 19,
      "outputs": []
    },
    {
      "cell_type": "code",
      "source": [
        "test_results = predictor.transform(testing)\n",
        "test_results.show(5)"
      ],
      "metadata": {
        "colab": {
          "base_uri": "https://localhost:8080/"
        },
        "id": "UGBD8mcxOal-",
        "outputId": "f6f1d7ee-3ae7-4713-cdef-0e13e6ab84de"
      },
      "execution_count": 20,
      "outputs": [
        {
          "output_type": "stream",
          "name": "stdout",
          "text": [
            "+--------+--------------------+------+-----+--------------------+--------------------+--------------------+--------------------+--------------------+--------------------+--------------------+----------+\n",
            "|Category|             Message|length|label|          token_text|         stop_tokens|          hash_token|           idf_token|            features|       rawPrediction|         probability|prediction|\n",
            "+--------+--------------------+------+-----+--------------------+--------------------+--------------------+--------------------+--------------------+--------------------+--------------------+----------+\n",
            "|     ham|\"7 wonders in My ...|   155|  0.0|[\"7, wonders, in,...|[\"7, wonders, wor...|(262144,[59381,60...|(262144,[59381,60...|(262145,[59381,60...|[-1576.1658865825...|[1.0,1.7390252805...|       0.0|\n",
            "|     ham|\"7 wonders in My ...|   155|  0.0|[\"7, wonders, in,...|[\"7, wonders, wor...|(262144,[59381,60...|(262144,[59381,60...|(262145,[59381,60...|[-1576.1658865825...|[1.0,1.7390252805...|       0.0|\n",
            "|     ham|\"A swt thought: \"...|   160|  0.0|[\"a, swt, thought...|[\"a, swt, thought...|(262144,[8804,380...|(262144,[8804,380...|(262145,[8804,380...|[-1582.0029941322...|[1.0,1.8729839925...|       0.0|\n",
            "|     ham|\"An Amazing Quote...|   144|  0.0|[\"an, amazing, qu...|[\"an, amazing, qu...|(262144,[38640,44...|(262144,[38640,44...|(262145,[38640,44...|[-1379.4067172087...|[1.0,1.1282744219...|       0.0|\n",
            "|     ham|\"And that is the ...|   383|  0.0|[\"and, that, is, ...|[\"and, problem., ...|(262144,[21823,35...|(262144,[21823,35...|(262145,[21823,35...|[-1970.9755119910...|[1.0,5.3057835434...|       0.0|\n",
            "+--------+--------------------+------+-----+--------------------+--------------------+--------------------+--------------------+--------------------+--------------------+--------------------+----------+\n",
            "only showing top 5 rows\n",
            "\n"
          ]
        }
      ]
    },
    {
      "cell_type": "markdown",
      "source": [
        "**Results**"
      ],
      "metadata": {
        "id": "rv-kTdxBPdLF"
      }
    },
    {
      "cell_type": "code",
      "source": [
        "from pyspark.ml.evaluation import MulticlassClassificationEvaluator\n",
        "\n",
        "acc_eval = MulticlassClassificationEvaluator()\n",
        "acc = acc_eval.evaluate(test_results)\n",
        "print(\"Accuracy of model at predicting spam was: %f\" % acc)"
      ],
      "metadata": {
        "colab": {
          "base_uri": "https://localhost:8080/"
        },
        "id": "ynbpHsOYOej8",
        "outputId": "f2b8f21e-bac0-46a9-a000-af6fbdbc9424"
      },
      "execution_count": 22,
      "outputs": [
        {
          "output_type": "stream",
          "name": "stdout",
          "text": [
            "Accuracy of model at predicting spam was: 0.953669\n"
          ]
        }
      ]
    }
  ]
}